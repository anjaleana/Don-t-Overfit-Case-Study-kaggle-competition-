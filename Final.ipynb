{
 "cells": [
  {
   "cell_type": "markdown",
   "metadata": {
    "id": "dYQOHAfWoqv7"
   },
   "source": [
    "### **Final Python File**"
   ]
  },
  {
   "cell_type": "markdown",
   "metadata": {},
   "source": [
    "### Listed All The Model"
   ]
  },
  {
   "cell_type": "code",
   "execution_count": 35,
   "metadata": {
    "colab": {
     "base_uri": "https://localhost:8080/"
    },
    "id": "S91Z5bF6YV9Q",
    "outputId": "124d485d-2648-4f89-f694-96adf82cdafc"
   },
   "outputs": [
    {
     "name": "stdout",
     "output_type": "stream",
     "text": [
      " Case_Study_Class_Weight_and_Model6.ipynb\n",
      " Case_Study_Class_Weight_,Feature_Engineering_and_Model1.ipynb\n",
      " Case_Study_Class_Weight+Normalization,Feature_Engineering_and_Model5.ipynb\n",
      "'Case_Study_Forward_Feature_Selection,Feature_Engineering_and_Model_3 (1).ipynb'\n",
      "'Case_Study_OverSampling_,Feature_Engineering_and_Model_2 (1).ipynb'\n",
      " Case_Study_PseudoTechnique_and_Model7.ipynb\n",
      "'Case_Study_PseudoTechnique_+Nearest Neighbors + Standardization+Classifiersand_Model4.ipynb'\n",
      " drive\n",
      " model_pickle\n",
      " sample_data\n",
      " sample_submission.csv\n",
      " test.csv\n",
      " train.csv\n"
     ]
    }
   ],
   "source": [
    "!ls"
   ]
  },
  {
   "cell_type": "markdown",
   "metadata": {
    "id": "wTj6b6lQo3oX"
   },
   "source": [
    "### **Import Libraries**"
   ]
  },
  {
   "cell_type": "code",
   "execution_count": 24,
   "metadata": {
    "id": "cAcyvzpSY47b"
   },
   "outputs": [],
   "source": [
    "import warnings\n",
    "warnings.filterwarnings('ignore')\n",
    "import pandas as pd\n",
    "import joblib\n",
    "from sklearn.metrics import  roc_auc_score"
   ]
  },
  {
   "cell_type": "markdown",
   "metadata": {
    "id": "gtjrU34Mo8oi"
   },
   "source": [
    "### **Import Dataset**"
   ]
  },
  {
   "cell_type": "code",
   "execution_count": 25,
   "metadata": {
    "colab": {
     "base_uri": "https://localhost:8080/"
    },
    "id": "vUUDDOXuY9cR",
    "outputId": "7e26e390-b1f5-4e9b-ee0b-87ea22f3999c"
   },
   "outputs": [
    {
     "name": "stdout",
     "output_type": "stream",
     "text": [
      "(250, 302)\n",
      "(19750, 301)\n",
      "(19750, 2)\n"
     ]
    }
   ],
   "source": [
    "train = pd.read_csv('train.csv')\n",
    "test = pd.read_csv('test.csv')\n",
    "submission = pd.read_csv('sample_submission.csv')\n",
    "print(train.shape)\n",
    "print(test.shape)\n",
    "print(submission.shape)"
   ]
  },
  {
   "cell_type": "markdown",
   "metadata": {
    "id": "XFCnVe6_pNOh"
   },
   "source": [
    "### **Import Train Test DataSet**"
   ]
  },
  {
   "cell_type": "code",
   "execution_count": 26,
   "metadata": {
    "colab": {
     "base_uri": "https://localhost:8080/"
    },
    "id": "zsHSZ5GfZztw",
    "outputId": "6ab5b560-fcaa-4521-d756-837a92e2a3e5"
   },
   "outputs": [
    {
     "name": "stdout",
     "output_type": "stream",
     "text": [
      "(250, 300) (250,)\n",
      "(19750, 300)\n"
     ]
    }
   ],
   "source": [
    "X = train.drop(['id','target'], axis=1)\n",
    "y = train['target']\n",
    "test = test.drop(['id'], axis=1)\n",
    "print(X.shape, y.shape)\n",
    "print(test.shape)"
   ]
  },
  {
   "cell_type": "markdown",
   "metadata": {
    "id": "LOc9oDqvnU9z"
   },
   "source": [
    "### **Final Function 1**"
   ]
  },
  {
   "cell_type": "code",
   "execution_count": 31,
   "metadata": {
    "colab": {
     "base_uri": "https://localhost:8080/"
    },
    "id": "pV4rghS0Z175",
    "outputId": "b2fb2068-2d18-4d18-e3d0-6b01eac1cce6"
   },
   "outputs": [
    {
     "data": {
      "text/plain": [
       "array([0.66542599, 0.49363699, 0.54808538, ..., 0.34306623, 0.79406723,\n",
       "       0.22330863])"
      ]
     },
     "execution_count": 31,
     "metadata": {},
     "output_type": "execute_result"
    }
   ],
   "source": [
    "import pickle\n",
    "def final_fun_1(X):\n",
    "  with open('model_pickle','rb') as f:\n",
    "    mod = pickle.load(f)\n",
    "  pred = mod.predict_proba(X)[:,1]\n",
    "  return pred\n",
    "final_fun_1(test)"
   ]
  },
  {
   "cell_type": "markdown",
   "metadata": {
    "id": "Tp8IoJOUoHjr"
   },
   "source": [
    "### **Final Function 2**"
   ]
  },
  {
   "cell_type": "code",
   "execution_count": 32,
   "metadata": {
    "colab": {
     "base_uri": "https://localhost:8080/"
    },
    "id": "0NgjFJJKnP6O",
    "outputId": "b25046ff-9fa8-4dc1-fbd0-086862b025e4"
   },
   "outputs": [
    {
     "data": {
      "text/plain": [
       "0.9600694444444445"
      ]
     },
     "execution_count": 32,
     "metadata": {},
     "output_type": "execute_result"
    }
   ],
   "source": [
    "def final_fun_2(X,Y):\n",
    "    Y_pred = final_fun_1(X)\n",
    "    score = roc_auc_score(Y, Y_pred)\n",
    "    return score\n",
    "final_fun_2(X,y)"
   ]
  }
 ],
 "metadata": {
  "colab": {
   "name": "Final.ipynb",
   "provenance": []
  },
  "kernelspec": {
   "display_name": "Python 3",
   "language": "python",
   "name": "python3"
  },
  "language_info": {
   "codemirror_mode": {
    "name": "ipython",
    "version": 3
   },
   "file_extension": ".py",
   "mimetype": "text/x-python",
   "name": "python",
   "nbconvert_exporter": "python",
   "pygments_lexer": "ipython3",
   "version": "3.6.5"
  }
 },
 "nbformat": 4,
 "nbformat_minor": 1
}
