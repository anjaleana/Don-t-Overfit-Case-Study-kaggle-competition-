{
 "cells": [
  {
   "cell_type": "markdown",
   "metadata": {
    "id": "TrUTRdytgHlI"
   },
   "source": [
    "Class Weight+Model"
   ]
  },
  {
   "cell_type": "markdown",
   "metadata": {
    "id": "CadEI_t8gZO2"
   },
   "source": [
    "1. Import necessary Libraries"
   ]
  },
  {
   "cell_type": "markdown",
   "metadata": {
    "id": "LHVYCsP0XPZZ"
   },
   "source": [
    "We have not used Feature Engineering and Standardization/Normalization\n"
   ]
  },
  {
   "cell_type": "code",
   "execution_count": 3,
   "metadata": {
    "id": "wCL-tKk2gP3i"
   },
   "outputs": [],
   "source": [
    "#For computational and random seed purpose\n",
    "import numpy as np\n",
    "np.random.seed(42)\n",
    "#to read csv file\n",
    "import pandas as pd\n",
    "#To split into train and cv data\n",
    "from sklearn.model_selection import train_test_split\n",
    "#To compute AUROC\n",
    "from sklearn.metrics import auc,roc_auc_score\n",
    "#for AUROC graph\n",
    "import matplotlib.pyplot as plt\n",
    "#for oversampling technique\n",
    "from imblearn.over_sampling import SMOTE # (https://imbalanced-learn.org/stable/references/generated/imblearn.over_sampling.SMOTE.html)\n",
    "#Data is imbalanced, we need calibrated model\n",
    "from sklearn.calibration import CalibratedClassifierCV\n",
    "#for hyperparameter tuning and Cross-validation fold\n",
    "from sklearn.model_selection import GridSearchCV,StratifiedKFold,RepeatedStratifiedKFold\n",
    "#to ignore the error message\n",
    "import warnings\n",
    "warnings.filterwarnings(\"ignore\")\n",
    "#for heatmap and other plotting technique\n",
    "import seaborn as sns\n",
    "#to strandize the real value data\n",
    "from sklearn.preprocessing import StandardScaler,MinMaxScaler\n",
    "from sklearn.preprocessing import LabelEncoder\n",
    "#To create Knn model on datasets\n",
    "from sklearn.neighbors import KNeighborsClassifier\n",
    "#for roc_curve\n",
    "from sklearn.metrics import roc_curve,roc_auc_score,accuracy_score\n",
    "\n",
    "import eli5\n",
    "from eli5.sklearn import PermutationImportance\n",
    "import joblib\n",
    "import sys\n",
    "sys.modules['sklearn.externals.joblib'] = joblib\n",
    "from mlxtend.feature_selection import SequentialFeatureSelector\n",
    "from sklearn.linear_model import LogisticRegression\n",
    "from sklearn.feature_selection import RFE\n",
    "from scipy.stats import kurtosis\n",
    "from scipy.stats import skew\n",
    "import warnings\n",
    "warnings.filterwarnings('ignore')\n",
    "#from catboost import CatBoostClassifier\n",
    "from sklearn.preprocessing import RobustScaler"
   ]
  },
  {
   "cell_type": "code",
   "execution_count": 11,
   "metadata": {
    "colab": {
     "base_uri": "https://localhost:8080/"
    },
    "id": "GtuK1I-yo8op",
    "outputId": "1e9f6f47-c56e-42e4-9b8d-3f5d72f79119"
   },
   "outputs": [
    {
     "name": "stdout",
     "output_type": "stream",
     "text": [
      "      id  target      0      1      2  ...    295    296    297    298    299\n",
      "0      0     1.0 -0.098  2.165  0.681  ... -2.097  1.051 -0.414  1.038 -1.065\n",
      "1      1     0.0  1.081 -0.973 -0.383  ... -1.624 -0.458 -1.099 -0.936  0.973\n",
      "2      2     1.0 -0.523 -0.089 -0.348  ... -1.165 -1.544  0.004  0.800 -1.211\n",
      "3      3     1.0  0.067 -0.021  0.392  ...  0.467 -0.562 -0.254 -0.533  0.238\n",
      "4      4     1.0  2.347 -0.831  0.511  ...  1.378  1.246  1.478  0.428  0.253\n",
      "..   ...     ...    ...    ...    ...  ...    ...    ...    ...    ...    ...\n",
      "245  245     0.0 -1.199  0.466 -0.908  ... -0.243  0.525  0.281 -0.255 -1.136\n",
      "246  246     0.0  0.237  0.233 -0.380  ...  1.004 -0.979  0.007  0.112 -0.558\n",
      "247  247     0.0  1.411 -1.465  0.119  ... -0.727  0.461  0.760  0.168 -0.719\n",
      "248  248     1.0  0.620  1.040  0.184  ...  0.478 -0.910 -0.805  2.029 -0.423\n",
      "249  249     0.0  0.489  0.403  0.139  ...  0.812  0.269 -1.454 -0.625  1.474\n",
      "\n",
      "[250 rows x 302 columns]\n"
     ]
    }
   ],
   "source": [
    "#locate parent directory\n",
    "data_dir = \"./\"\n",
    "\n",
    "#Read the training data\n",
    "df_train = pd.read_csv('train.csv')\n",
    "print(df_train)\n"
   ]
  },
  {
   "cell_type": "code",
   "execution_count": 12,
   "metadata": {
    "colab": {
     "base_uri": "https://localhost:8080/",
     "height": 443
    },
    "id": "CdEOqaQWoq61",
    "outputId": "ed445069-3504-4760-cb2f-e42bf84a9e7a"
   },
   "outputs": [
    {
     "data": {
      "text/html": [
       "<div>\n",
       "<style scoped>\n",
       "    .dataframe tbody tr th:only-of-type {\n",
       "        vertical-align: middle;\n",
       "    }\n",
       "\n",
       "    .dataframe tbody tr th {\n",
       "        vertical-align: top;\n",
       "    }\n",
       "\n",
       "    .dataframe thead th {\n",
       "        text-align: right;\n",
       "    }\n",
       "</style>\n",
       "<table border=\"1\" class=\"dataframe\">\n",
       "  <thead>\n",
       "    <tr style=\"text-align: right;\">\n",
       "      <th></th>\n",
       "      <th>id</th>\n",
       "      <th>0</th>\n",
       "      <th>1</th>\n",
       "      <th>2</th>\n",
       "      <th>3</th>\n",
       "      <th>4</th>\n",
       "      <th>5</th>\n",
       "      <th>6</th>\n",
       "      <th>7</th>\n",
       "      <th>8</th>\n",
       "      <th>9</th>\n",
       "      <th>10</th>\n",
       "      <th>11</th>\n",
       "      <th>12</th>\n",
       "      <th>13</th>\n",
       "      <th>14</th>\n",
       "      <th>15</th>\n",
       "      <th>16</th>\n",
       "      <th>17</th>\n",
       "      <th>18</th>\n",
       "      <th>19</th>\n",
       "      <th>20</th>\n",
       "      <th>21</th>\n",
       "      <th>22</th>\n",
       "      <th>23</th>\n",
       "      <th>24</th>\n",
       "      <th>25</th>\n",
       "      <th>26</th>\n",
       "      <th>27</th>\n",
       "      <th>28</th>\n",
       "      <th>29</th>\n",
       "      <th>30</th>\n",
       "      <th>31</th>\n",
       "      <th>32</th>\n",
       "      <th>33</th>\n",
       "      <th>34</th>\n",
       "      <th>35</th>\n",
       "      <th>36</th>\n",
       "      <th>37</th>\n",
       "      <th>38</th>\n",
       "      <th>...</th>\n",
       "      <th>260</th>\n",
       "      <th>261</th>\n",
       "      <th>262</th>\n",
       "      <th>263</th>\n",
       "      <th>264</th>\n",
       "      <th>265</th>\n",
       "      <th>266</th>\n",
       "      <th>267</th>\n",
       "      <th>268</th>\n",
       "      <th>269</th>\n",
       "      <th>270</th>\n",
       "      <th>271</th>\n",
       "      <th>272</th>\n",
       "      <th>273</th>\n",
       "      <th>274</th>\n",
       "      <th>275</th>\n",
       "      <th>276</th>\n",
       "      <th>277</th>\n",
       "      <th>278</th>\n",
       "      <th>279</th>\n",
       "      <th>280</th>\n",
       "      <th>281</th>\n",
       "      <th>282</th>\n",
       "      <th>283</th>\n",
       "      <th>284</th>\n",
       "      <th>285</th>\n",
       "      <th>286</th>\n",
       "      <th>287</th>\n",
       "      <th>288</th>\n",
       "      <th>289</th>\n",
       "      <th>290</th>\n",
       "      <th>291</th>\n",
       "      <th>292</th>\n",
       "      <th>293</th>\n",
       "      <th>294</th>\n",
       "      <th>295</th>\n",
       "      <th>296</th>\n",
       "      <th>297</th>\n",
       "      <th>298</th>\n",
       "      <th>299</th>\n",
       "    </tr>\n",
       "  </thead>\n",
       "  <tbody>\n",
       "    <tr>\n",
       "      <th>0</th>\n",
       "      <td>250</td>\n",
       "      <td>0.500</td>\n",
       "      <td>-1.033</td>\n",
       "      <td>-1.595</td>\n",
       "      <td>0.309</td>\n",
       "      <td>-0.714</td>\n",
       "      <td>0.502</td>\n",
       "      <td>0.535</td>\n",
       "      <td>-0.129</td>\n",
       "      <td>-0.687</td>\n",
       "      <td>1.291</td>\n",
       "      <td>0.507</td>\n",
       "      <td>-0.317</td>\n",
       "      <td>1.848</td>\n",
       "      <td>-0.232</td>\n",
       "      <td>-0.340</td>\n",
       "      <td>-0.051</td>\n",
       "      <td>0.804</td>\n",
       "      <td>0.764</td>\n",
       "      <td>1.860</td>\n",
       "      <td>0.262</td>\n",
       "      <td>1.112</td>\n",
       "      <td>-0.491</td>\n",
       "      <td>-1.039</td>\n",
       "      <td>-0.492</td>\n",
       "      <td>0.183</td>\n",
       "      <td>-0.671</td>\n",
       "      <td>-1.313</td>\n",
       "      <td>0.149</td>\n",
       "      <td>0.244</td>\n",
       "      <td>1.072</td>\n",
       "      <td>-1.003</td>\n",
       "      <td>0.832</td>\n",
       "      <td>-1.075</td>\n",
       "      <td>1.988</td>\n",
       "      <td>1.201</td>\n",
       "      <td>-2.065</td>\n",
       "      <td>-0.826</td>\n",
       "      <td>-0.016</td>\n",
       "      <td>0.490</td>\n",
       "      <td>...</td>\n",
       "      <td>0.824</td>\n",
       "      <td>0.928</td>\n",
       "      <td>1.372</td>\n",
       "      <td>1.505</td>\n",
       "      <td>0.645</td>\n",
       "      <td>0.641</td>\n",
       "      <td>-1.132</td>\n",
       "      <td>1.009</td>\n",
       "      <td>0.998</td>\n",
       "      <td>0.210</td>\n",
       "      <td>-1.634</td>\n",
       "      <td>1.046</td>\n",
       "      <td>0.114</td>\n",
       "      <td>-0.806</td>\n",
       "      <td>0.301</td>\n",
       "      <td>0.145</td>\n",
       "      <td>-0.684</td>\n",
       "      <td>0.794</td>\n",
       "      <td>-0.290</td>\n",
       "      <td>-1.688</td>\n",
       "      <td>0.313</td>\n",
       "      <td>1.140</td>\n",
       "      <td>0.447</td>\n",
       "      <td>-0.616</td>\n",
       "      <td>1.294</td>\n",
       "      <td>0.785</td>\n",
       "      <td>0.453</td>\n",
       "      <td>1.550</td>\n",
       "      <td>-0.866</td>\n",
       "      <td>1.007</td>\n",
       "      <td>-0.088</td>\n",
       "      <td>-2.628</td>\n",
       "      <td>-0.845</td>\n",
       "      <td>2.078</td>\n",
       "      <td>-0.277</td>\n",
       "      <td>2.132</td>\n",
       "      <td>0.609</td>\n",
       "      <td>-0.104</td>\n",
       "      <td>0.312</td>\n",
       "      <td>0.979</td>\n",
       "    </tr>\n",
       "    <tr>\n",
       "      <th>1</th>\n",
       "      <td>251</td>\n",
       "      <td>0.776</td>\n",
       "      <td>0.914</td>\n",
       "      <td>-0.494</td>\n",
       "      <td>1.347</td>\n",
       "      <td>-0.867</td>\n",
       "      <td>0.480</td>\n",
       "      <td>0.578</td>\n",
       "      <td>-0.313</td>\n",
       "      <td>0.203</td>\n",
       "      <td>1.356</td>\n",
       "      <td>-1.086</td>\n",
       "      <td>0.322</td>\n",
       "      <td>0.876</td>\n",
       "      <td>-0.563</td>\n",
       "      <td>-1.394</td>\n",
       "      <td>0.385</td>\n",
       "      <td>1.891</td>\n",
       "      <td>-2.107</td>\n",
       "      <td>-0.636</td>\n",
       "      <td>-0.055</td>\n",
       "      <td>-0.843</td>\n",
       "      <td>0.041</td>\n",
       "      <td>0.253</td>\n",
       "      <td>0.557</td>\n",
       "      <td>0.475</td>\n",
       "      <td>-0.839</td>\n",
       "      <td>-1.146</td>\n",
       "      <td>1.210</td>\n",
       "      <td>1.427</td>\n",
       "      <td>0.347</td>\n",
       "      <td>1.077</td>\n",
       "      <td>-0.194</td>\n",
       "      <td>0.323</td>\n",
       "      <td>0.543</td>\n",
       "      <td>0.894</td>\n",
       "      <td>1.190</td>\n",
       "      <td>0.342</td>\n",
       "      <td>-0.858</td>\n",
       "      <td>0.756</td>\n",
       "      <td>...</td>\n",
       "      <td>-1.791</td>\n",
       "      <td>0.122</td>\n",
       "      <td>-0.669</td>\n",
       "      <td>-1.558</td>\n",
       "      <td>-0.244</td>\n",
       "      <td>2.583</td>\n",
       "      <td>-0.829</td>\n",
       "      <td>0.133</td>\n",
       "      <td>-2.746</td>\n",
       "      <td>0.341</td>\n",
       "      <td>-1.145</td>\n",
       "      <td>0.492</td>\n",
       "      <td>0.437</td>\n",
       "      <td>-0.628</td>\n",
       "      <td>0.271</td>\n",
       "      <td>2.639</td>\n",
       "      <td>0.481</td>\n",
       "      <td>-0.687</td>\n",
       "      <td>1.017</td>\n",
       "      <td>1.648</td>\n",
       "      <td>-1.272</td>\n",
       "      <td>-0.797</td>\n",
       "      <td>-0.870</td>\n",
       "      <td>-1.582</td>\n",
       "      <td>-1.987</td>\n",
       "      <td>-0.052</td>\n",
       "      <td>-0.194</td>\n",
       "      <td>0.539</td>\n",
       "      <td>-1.788</td>\n",
       "      <td>-0.433</td>\n",
       "      <td>-0.683</td>\n",
       "      <td>-0.066</td>\n",
       "      <td>0.025</td>\n",
       "      <td>0.606</td>\n",
       "      <td>-0.353</td>\n",
       "      <td>-1.133</td>\n",
       "      <td>-3.138</td>\n",
       "      <td>0.281</td>\n",
       "      <td>-0.625</td>\n",
       "      <td>-0.761</td>\n",
       "    </tr>\n",
       "    <tr>\n",
       "      <th>2</th>\n",
       "      <td>252</td>\n",
       "      <td>1.750</td>\n",
       "      <td>0.509</td>\n",
       "      <td>-0.057</td>\n",
       "      <td>0.835</td>\n",
       "      <td>-0.476</td>\n",
       "      <td>1.428</td>\n",
       "      <td>-0.701</td>\n",
       "      <td>-2.009</td>\n",
       "      <td>-1.378</td>\n",
       "      <td>0.167</td>\n",
       "      <td>-0.132</td>\n",
       "      <td>0.459</td>\n",
       "      <td>-0.341</td>\n",
       "      <td>0.014</td>\n",
       "      <td>0.184</td>\n",
       "      <td>-0.460</td>\n",
       "      <td>-0.991</td>\n",
       "      <td>-1.039</td>\n",
       "      <td>0.992</td>\n",
       "      <td>1.036</td>\n",
       "      <td>1.552</td>\n",
       "      <td>-0.830</td>\n",
       "      <td>1.374</td>\n",
       "      <td>-0.914</td>\n",
       "      <td>0.427</td>\n",
       "      <td>0.027</td>\n",
       "      <td>0.327</td>\n",
       "      <td>1.117</td>\n",
       "      <td>0.871</td>\n",
       "      <td>-2.556</td>\n",
       "      <td>-0.036</td>\n",
       "      <td>-0.081</td>\n",
       "      <td>0.744</td>\n",
       "      <td>-1.191</td>\n",
       "      <td>-1.784</td>\n",
       "      <td>0.239</td>\n",
       "      <td>0.500</td>\n",
       "      <td>0.437</td>\n",
       "      <td>0.746</td>\n",
       "      <td>...</td>\n",
       "      <td>-1.167</td>\n",
       "      <td>1.009</td>\n",
       "      <td>-0.180</td>\n",
       "      <td>-0.683</td>\n",
       "      <td>-1.383</td>\n",
       "      <td>1.020</td>\n",
       "      <td>0.268</td>\n",
       "      <td>-1.558</td>\n",
       "      <td>0.620</td>\n",
       "      <td>-0.489</td>\n",
       "      <td>-2.090</td>\n",
       "      <td>-0.977</td>\n",
       "      <td>1.672</td>\n",
       "      <td>-0.655</td>\n",
       "      <td>-0.801</td>\n",
       "      <td>-1.846</td>\n",
       "      <td>0.761</td>\n",
       "      <td>-0.846</td>\n",
       "      <td>0.181</td>\n",
       "      <td>0.962</td>\n",
       "      <td>-0.611</td>\n",
       "      <td>1.450</td>\n",
       "      <td>0.021</td>\n",
       "      <td>0.320</td>\n",
       "      <td>-0.951</td>\n",
       "      <td>-2.662</td>\n",
       "      <td>0.761</td>\n",
       "      <td>-0.665</td>\n",
       "      <td>-0.619</td>\n",
       "      <td>-0.645</td>\n",
       "      <td>-0.094</td>\n",
       "      <td>0.351</td>\n",
       "      <td>-0.607</td>\n",
       "      <td>-0.737</td>\n",
       "      <td>-0.031</td>\n",
       "      <td>0.701</td>\n",
       "      <td>0.976</td>\n",
       "      <td>0.135</td>\n",
       "      <td>-1.327</td>\n",
       "      <td>2.463</td>\n",
       "    </tr>\n",
       "    <tr>\n",
       "      <th>3</th>\n",
       "      <td>253</td>\n",
       "      <td>-0.556</td>\n",
       "      <td>-1.855</td>\n",
       "      <td>-0.682</td>\n",
       "      <td>0.578</td>\n",
       "      <td>1.592</td>\n",
       "      <td>0.512</td>\n",
       "      <td>-1.419</td>\n",
       "      <td>0.722</td>\n",
       "      <td>0.511</td>\n",
       "      <td>0.567</td>\n",
       "      <td>0.356</td>\n",
       "      <td>-0.060</td>\n",
       "      <td>0.767</td>\n",
       "      <td>-0.196</td>\n",
       "      <td>0.359</td>\n",
       "      <td>0.080</td>\n",
       "      <td>-0.956</td>\n",
       "      <td>0.857</td>\n",
       "      <td>-0.655</td>\n",
       "      <td>-0.090</td>\n",
       "      <td>-0.008</td>\n",
       "      <td>-0.596</td>\n",
       "      <td>-0.413</td>\n",
       "      <td>-1.030</td>\n",
       "      <td>0.173</td>\n",
       "      <td>-0.969</td>\n",
       "      <td>0.998</td>\n",
       "      <td>0.079</td>\n",
       "      <td>0.790</td>\n",
       "      <td>-0.776</td>\n",
       "      <td>-0.374</td>\n",
       "      <td>-1.995</td>\n",
       "      <td>0.572</td>\n",
       "      <td>0.542</td>\n",
       "      <td>0.547</td>\n",
       "      <td>0.307</td>\n",
       "      <td>-0.074</td>\n",
       "      <td>1.703</td>\n",
       "      <td>-0.003</td>\n",
       "      <td>...</td>\n",
       "      <td>-1.029</td>\n",
       "      <td>-0.340</td>\n",
       "      <td>0.052</td>\n",
       "      <td>2.122</td>\n",
       "      <td>-0.136</td>\n",
       "      <td>-1.799</td>\n",
       "      <td>1.450</td>\n",
       "      <td>1.866</td>\n",
       "      <td>-0.273</td>\n",
       "      <td>-0.237</td>\n",
       "      <td>-0.207</td>\n",
       "      <td>-0.196</td>\n",
       "      <td>-1.106</td>\n",
       "      <td>-1.560</td>\n",
       "      <td>-0.934</td>\n",
       "      <td>2.167</td>\n",
       "      <td>0.323</td>\n",
       "      <td>0.583</td>\n",
       "      <td>1.480</td>\n",
       "      <td>-0.685</td>\n",
       "      <td>-0.473</td>\n",
       "      <td>-1.066</td>\n",
       "      <td>-0.271</td>\n",
       "      <td>0.506</td>\n",
       "      <td>-0.753</td>\n",
       "      <td>1.048</td>\n",
       "      <td>-0.450</td>\n",
       "      <td>-0.300</td>\n",
       "      <td>-1.221</td>\n",
       "      <td>0.235</td>\n",
       "      <td>-0.336</td>\n",
       "      <td>-0.787</td>\n",
       "      <td>0.255</td>\n",
       "      <td>-0.031</td>\n",
       "      <td>-0.836</td>\n",
       "      <td>0.916</td>\n",
       "      <td>2.411</td>\n",
       "      <td>1.053</td>\n",
       "      <td>-1.601</td>\n",
       "      <td>-1.529</td>\n",
       "    </tr>\n",
       "    <tr>\n",
       "      <th>4</th>\n",
       "      <td>254</td>\n",
       "      <td>0.754</td>\n",
       "      <td>-0.245</td>\n",
       "      <td>1.173</td>\n",
       "      <td>-1.623</td>\n",
       "      <td>0.009</td>\n",
       "      <td>0.370</td>\n",
       "      <td>0.781</td>\n",
       "      <td>-1.763</td>\n",
       "      <td>-1.432</td>\n",
       "      <td>-0.930</td>\n",
       "      <td>-0.098</td>\n",
       "      <td>0.896</td>\n",
       "      <td>0.293</td>\n",
       "      <td>-0.259</td>\n",
       "      <td>0.030</td>\n",
       "      <td>-0.661</td>\n",
       "      <td>0.921</td>\n",
       "      <td>0.006</td>\n",
       "      <td>-0.631</td>\n",
       "      <td>1.284</td>\n",
       "      <td>-1.167</td>\n",
       "      <td>-0.744</td>\n",
       "      <td>-2.184</td>\n",
       "      <td>2.146</td>\n",
       "      <td>1.130</td>\n",
       "      <td>0.017</td>\n",
       "      <td>1.421</td>\n",
       "      <td>-0.590</td>\n",
       "      <td>1.938</td>\n",
       "      <td>-0.194</td>\n",
       "      <td>0.794</td>\n",
       "      <td>0.579</td>\n",
       "      <td>0.521</td>\n",
       "      <td>0.635</td>\n",
       "      <td>-0.023</td>\n",
       "      <td>-0.892</td>\n",
       "      <td>-0.363</td>\n",
       "      <td>-0.360</td>\n",
       "      <td>0.405</td>\n",
       "      <td>...</td>\n",
       "      <td>-0.486</td>\n",
       "      <td>-0.068</td>\n",
       "      <td>-0.534</td>\n",
       "      <td>-1.322</td>\n",
       "      <td>0.500</td>\n",
       "      <td>0.263</td>\n",
       "      <td>-0.745</td>\n",
       "      <td>0.578</td>\n",
       "      <td>-0.064</td>\n",
       "      <td>0.738</td>\n",
       "      <td>-0.280</td>\n",
       "      <td>0.745</td>\n",
       "      <td>-0.588</td>\n",
       "      <td>-0.429</td>\n",
       "      <td>-0.588</td>\n",
       "      <td>0.154</td>\n",
       "      <td>-1.187</td>\n",
       "      <td>1.681</td>\n",
       "      <td>-0.832</td>\n",
       "      <td>-0.437</td>\n",
       "      <td>-0.038</td>\n",
       "      <td>-1.096</td>\n",
       "      <td>-0.156</td>\n",
       "      <td>3.565</td>\n",
       "      <td>-0.428</td>\n",
       "      <td>-0.384</td>\n",
       "      <td>1.243</td>\n",
       "      <td>-0.966</td>\n",
       "      <td>1.525</td>\n",
       "      <td>0.458</td>\n",
       "      <td>2.184</td>\n",
       "      <td>-1.090</td>\n",
       "      <td>0.216</td>\n",
       "      <td>1.186</td>\n",
       "      <td>-0.143</td>\n",
       "      <td>0.322</td>\n",
       "      <td>-0.068</td>\n",
       "      <td>-0.156</td>\n",
       "      <td>-1.153</td>\n",
       "      <td>0.825</td>\n",
       "    </tr>\n",
       "    <tr>\n",
       "      <th>...</th>\n",
       "      <td>...</td>\n",
       "      <td>...</td>\n",
       "      <td>...</td>\n",
       "      <td>...</td>\n",
       "      <td>...</td>\n",
       "      <td>...</td>\n",
       "      <td>...</td>\n",
       "      <td>...</td>\n",
       "      <td>...</td>\n",
       "      <td>...</td>\n",
       "      <td>...</td>\n",
       "      <td>...</td>\n",
       "      <td>...</td>\n",
       "      <td>...</td>\n",
       "      <td>...</td>\n",
       "      <td>...</td>\n",
       "      <td>...</td>\n",
       "      <td>...</td>\n",
       "      <td>...</td>\n",
       "      <td>...</td>\n",
       "      <td>...</td>\n",
       "      <td>...</td>\n",
       "      <td>...</td>\n",
       "      <td>...</td>\n",
       "      <td>...</td>\n",
       "      <td>...</td>\n",
       "      <td>...</td>\n",
       "      <td>...</td>\n",
       "      <td>...</td>\n",
       "      <td>...</td>\n",
       "      <td>...</td>\n",
       "      <td>...</td>\n",
       "      <td>...</td>\n",
       "      <td>...</td>\n",
       "      <td>...</td>\n",
       "      <td>...</td>\n",
       "      <td>...</td>\n",
       "      <td>...</td>\n",
       "      <td>...</td>\n",
       "      <td>...</td>\n",
       "      <td>...</td>\n",
       "      <td>...</td>\n",
       "      <td>...</td>\n",
       "      <td>...</td>\n",
       "      <td>...</td>\n",
       "      <td>...</td>\n",
       "      <td>...</td>\n",
       "      <td>...</td>\n",
       "      <td>...</td>\n",
       "      <td>...</td>\n",
       "      <td>...</td>\n",
       "      <td>...</td>\n",
       "      <td>...</td>\n",
       "      <td>...</td>\n",
       "      <td>...</td>\n",
       "      <td>...</td>\n",
       "      <td>...</td>\n",
       "      <td>...</td>\n",
       "      <td>...</td>\n",
       "      <td>...</td>\n",
       "      <td>...</td>\n",
       "      <td>...</td>\n",
       "      <td>...</td>\n",
       "      <td>...</td>\n",
       "      <td>...</td>\n",
       "      <td>...</td>\n",
       "      <td>...</td>\n",
       "      <td>...</td>\n",
       "      <td>...</td>\n",
       "      <td>...</td>\n",
       "      <td>...</td>\n",
       "      <td>...</td>\n",
       "      <td>...</td>\n",
       "      <td>...</td>\n",
       "      <td>...</td>\n",
       "      <td>...</td>\n",
       "      <td>...</td>\n",
       "      <td>...</td>\n",
       "      <td>...</td>\n",
       "      <td>...</td>\n",
       "      <td>...</td>\n",
       "    </tr>\n",
       "    <tr>\n",
       "      <th>19745</th>\n",
       "      <td>19995</td>\n",
       "      <td>1.069</td>\n",
       "      <td>0.517</td>\n",
       "      <td>-0.690</td>\n",
       "      <td>0.241</td>\n",
       "      <td>0.913</td>\n",
       "      <td>-0.859</td>\n",
       "      <td>0.093</td>\n",
       "      <td>-0.359</td>\n",
       "      <td>-0.047</td>\n",
       "      <td>0.713</td>\n",
       "      <td>2.191</td>\n",
       "      <td>0.774</td>\n",
       "      <td>-0.110</td>\n",
       "      <td>-0.721</td>\n",
       "      <td>0.375</td>\n",
       "      <td>0.577</td>\n",
       "      <td>-0.192</td>\n",
       "      <td>-1.345</td>\n",
       "      <td>0.042</td>\n",
       "      <td>0.786</td>\n",
       "      <td>0.774</td>\n",
       "      <td>2.458</td>\n",
       "      <td>0.634</td>\n",
       "      <td>-0.664</td>\n",
       "      <td>-0.486</td>\n",
       "      <td>0.136</td>\n",
       "      <td>-0.506</td>\n",
       "      <td>0.509</td>\n",
       "      <td>-2.206</td>\n",
       "      <td>-1.035</td>\n",
       "      <td>-0.828</td>\n",
       "      <td>0.335</td>\n",
       "      <td>-0.963</td>\n",
       "      <td>0.946</td>\n",
       "      <td>1.728</td>\n",
       "      <td>0.256</td>\n",
       "      <td>-0.938</td>\n",
       "      <td>0.041</td>\n",
       "      <td>-0.112</td>\n",
       "      <td>...</td>\n",
       "      <td>-0.079</td>\n",
       "      <td>-0.853</td>\n",
       "      <td>0.708</td>\n",
       "      <td>0.301</td>\n",
       "      <td>0.636</td>\n",
       "      <td>-0.688</td>\n",
       "      <td>0.220</td>\n",
       "      <td>-1.192</td>\n",
       "      <td>1.257</td>\n",
       "      <td>-0.664</td>\n",
       "      <td>-1.258</td>\n",
       "      <td>-1.199</td>\n",
       "      <td>-0.145</td>\n",
       "      <td>0.581</td>\n",
       "      <td>-0.613</td>\n",
       "      <td>2.775</td>\n",
       "      <td>-0.254</td>\n",
       "      <td>-0.027</td>\n",
       "      <td>-1.088</td>\n",
       "      <td>-0.461</td>\n",
       "      <td>-0.356</td>\n",
       "      <td>-0.622</td>\n",
       "      <td>-0.228</td>\n",
       "      <td>-0.490</td>\n",
       "      <td>1.011</td>\n",
       "      <td>0.655</td>\n",
       "      <td>1.088</td>\n",
       "      <td>-0.796</td>\n",
       "      <td>-0.261</td>\n",
       "      <td>-1.219</td>\n",
       "      <td>0.495</td>\n",
       "      <td>1.021</td>\n",
       "      <td>0.126</td>\n",
       "      <td>-0.353</td>\n",
       "      <td>-0.092</td>\n",
       "      <td>0.996</td>\n",
       "      <td>-0.381</td>\n",
       "      <td>-0.748</td>\n",
       "      <td>1.567</td>\n",
       "      <td>1.165</td>\n",
       "    </tr>\n",
       "    <tr>\n",
       "      <th>19746</th>\n",
       "      <td>19996</td>\n",
       "      <td>-0.529</td>\n",
       "      <td>0.438</td>\n",
       "      <td>0.672</td>\n",
       "      <td>1.436</td>\n",
       "      <td>-0.720</td>\n",
       "      <td>0.698</td>\n",
       "      <td>-0.350</td>\n",
       "      <td>2.150</td>\n",
       "      <td>-1.241</td>\n",
       "      <td>-0.167</td>\n",
       "      <td>-0.188</td>\n",
       "      <td>0.541</td>\n",
       "      <td>-0.392</td>\n",
       "      <td>1.727</td>\n",
       "      <td>-0.965</td>\n",
       "      <td>0.550</td>\n",
       "      <td>-2.164</td>\n",
       "      <td>-0.523</td>\n",
       "      <td>-0.144</td>\n",
       "      <td>-0.931</td>\n",
       "      <td>0.703</td>\n",
       "      <td>0.464</td>\n",
       "      <td>-0.919</td>\n",
       "      <td>-0.867</td>\n",
       "      <td>-1.345</td>\n",
       "      <td>-0.634</td>\n",
       "      <td>0.121</td>\n",
       "      <td>0.877</td>\n",
       "      <td>-1.665</td>\n",
       "      <td>-0.086</td>\n",
       "      <td>-0.703</td>\n",
       "      <td>-0.874</td>\n",
       "      <td>0.676</td>\n",
       "      <td>1.671</td>\n",
       "      <td>0.356</td>\n",
       "      <td>0.365</td>\n",
       "      <td>-1.177</td>\n",
       "      <td>1.380</td>\n",
       "      <td>1.987</td>\n",
       "      <td>...</td>\n",
       "      <td>-1.008</td>\n",
       "      <td>0.832</td>\n",
       "      <td>-0.184</td>\n",
       "      <td>-1.369</td>\n",
       "      <td>0.555</td>\n",
       "      <td>-1.820</td>\n",
       "      <td>-0.838</td>\n",
       "      <td>-1.635</td>\n",
       "      <td>0.102</td>\n",
       "      <td>-0.548</td>\n",
       "      <td>-0.914</td>\n",
       "      <td>0.163</td>\n",
       "      <td>0.430</td>\n",
       "      <td>1.546</td>\n",
       "      <td>-0.082</td>\n",
       "      <td>0.200</td>\n",
       "      <td>-2.344</td>\n",
       "      <td>-1.380</td>\n",
       "      <td>0.591</td>\n",
       "      <td>0.905</td>\n",
       "      <td>-0.932</td>\n",
       "      <td>-1.391</td>\n",
       "      <td>-0.950</td>\n",
       "      <td>0.728</td>\n",
       "      <td>0.455</td>\n",
       "      <td>0.047</td>\n",
       "      <td>-1.662</td>\n",
       "      <td>1.572</td>\n",
       "      <td>0.380</td>\n",
       "      <td>-0.366</td>\n",
       "      <td>-0.246</td>\n",
       "      <td>-0.205</td>\n",
       "      <td>-0.368</td>\n",
       "      <td>1.589</td>\n",
       "      <td>0.389</td>\n",
       "      <td>-0.496</td>\n",
       "      <td>-0.940</td>\n",
       "      <td>-1.457</td>\n",
       "      <td>-1.152</td>\n",
       "      <td>0.937</td>\n",
       "    </tr>\n",
       "    <tr>\n",
       "      <th>19747</th>\n",
       "      <td>19997</td>\n",
       "      <td>-0.554</td>\n",
       "      <td>-0.936</td>\n",
       "      <td>-1.427</td>\n",
       "      <td>0.027</td>\n",
       "      <td>-0.539</td>\n",
       "      <td>0.994</td>\n",
       "      <td>-1.832</td>\n",
       "      <td>-1.156</td>\n",
       "      <td>0.474</td>\n",
       "      <td>1.483</td>\n",
       "      <td>1.524</td>\n",
       "      <td>0.143</td>\n",
       "      <td>-0.607</td>\n",
       "      <td>-1.142</td>\n",
       "      <td>2.786</td>\n",
       "      <td>-0.387</td>\n",
       "      <td>-0.484</td>\n",
       "      <td>-0.778</td>\n",
       "      <td>1.031</td>\n",
       "      <td>1.355</td>\n",
       "      <td>0.828</td>\n",
       "      <td>-0.665</td>\n",
       "      <td>0.031</td>\n",
       "      <td>-0.254</td>\n",
       "      <td>-0.281</td>\n",
       "      <td>-1.545</td>\n",
       "      <td>0.300</td>\n",
       "      <td>0.908</td>\n",
       "      <td>-0.871</td>\n",
       "      <td>-0.345</td>\n",
       "      <td>-0.448</td>\n",
       "      <td>-0.179</td>\n",
       "      <td>0.035</td>\n",
       "      <td>-0.773</td>\n",
       "      <td>0.481</td>\n",
       "      <td>-2.736</td>\n",
       "      <td>-1.220</td>\n",
       "      <td>-2.047</td>\n",
       "      <td>0.011</td>\n",
       "      <td>...</td>\n",
       "      <td>-0.830</td>\n",
       "      <td>-1.999</td>\n",
       "      <td>0.720</td>\n",
       "      <td>0.869</td>\n",
       "      <td>0.019</td>\n",
       "      <td>0.457</td>\n",
       "      <td>2.047</td>\n",
       "      <td>-0.616</td>\n",
       "      <td>-0.678</td>\n",
       "      <td>-0.287</td>\n",
       "      <td>-0.645</td>\n",
       "      <td>0.354</td>\n",
       "      <td>1.346</td>\n",
       "      <td>1.026</td>\n",
       "      <td>-0.902</td>\n",
       "      <td>0.174</td>\n",
       "      <td>0.290</td>\n",
       "      <td>-0.005</td>\n",
       "      <td>-2.509</td>\n",
       "      <td>0.427</td>\n",
       "      <td>0.760</td>\n",
       "      <td>-1.416</td>\n",
       "      <td>0.144</td>\n",
       "      <td>1.472</td>\n",
       "      <td>-0.492</td>\n",
       "      <td>0.229</td>\n",
       "      <td>1.224</td>\n",
       "      <td>0.600</td>\n",
       "      <td>-1.543</td>\n",
       "      <td>0.140</td>\n",
       "      <td>-0.008</td>\n",
       "      <td>-1.283</td>\n",
       "      <td>-0.574</td>\n",
       "      <td>0.465</td>\n",
       "      <td>-0.663</td>\n",
       "      <td>0.486</td>\n",
       "      <td>-0.375</td>\n",
       "      <td>1.546</td>\n",
       "      <td>0.759</td>\n",
       "      <td>0.519</td>\n",
       "    </tr>\n",
       "    <tr>\n",
       "      <th>19748</th>\n",
       "      <td>19998</td>\n",
       "      <td>-0.746</td>\n",
       "      <td>1.205</td>\n",
       "      <td>0.750</td>\n",
       "      <td>-0.236</td>\n",
       "      <td>1.139</td>\n",
       "      <td>-1.727</td>\n",
       "      <td>-0.677</td>\n",
       "      <td>-1.254</td>\n",
       "      <td>-0.099</td>\n",
       "      <td>-0.724</td>\n",
       "      <td>0.014</td>\n",
       "      <td>-0.575</td>\n",
       "      <td>-0.142</td>\n",
       "      <td>1.171</td>\n",
       "      <td>-0.198</td>\n",
       "      <td>0.336</td>\n",
       "      <td>-0.155</td>\n",
       "      <td>0.280</td>\n",
       "      <td>1.506</td>\n",
       "      <td>-0.947</td>\n",
       "      <td>0.493</td>\n",
       "      <td>0.235</td>\n",
       "      <td>-1.187</td>\n",
       "      <td>0.063</td>\n",
       "      <td>1.469</td>\n",
       "      <td>0.998</td>\n",
       "      <td>-0.044</td>\n",
       "      <td>1.942</td>\n",
       "      <td>-0.167</td>\n",
       "      <td>0.566</td>\n",
       "      <td>0.643</td>\n",
       "      <td>1.005</td>\n",
       "      <td>-0.185</td>\n",
       "      <td>0.314</td>\n",
       "      <td>-1.207</td>\n",
       "      <td>0.672</td>\n",
       "      <td>-0.338</td>\n",
       "      <td>-0.848</td>\n",
       "      <td>-0.001</td>\n",
       "      <td>...</td>\n",
       "      <td>-0.866</td>\n",
       "      <td>-0.355</td>\n",
       "      <td>-1.453</td>\n",
       "      <td>-0.301</td>\n",
       "      <td>-1.129</td>\n",
       "      <td>-0.316</td>\n",
       "      <td>-0.172</td>\n",
       "      <td>0.272</td>\n",
       "      <td>0.381</td>\n",
       "      <td>-0.125</td>\n",
       "      <td>1.929</td>\n",
       "      <td>0.800</td>\n",
       "      <td>-0.632</td>\n",
       "      <td>-0.041</td>\n",
       "      <td>0.294</td>\n",
       "      <td>1.330</td>\n",
       "      <td>1.094</td>\n",
       "      <td>0.400</td>\n",
       "      <td>1.025</td>\n",
       "      <td>-0.289</td>\n",
       "      <td>0.101</td>\n",
       "      <td>-0.586</td>\n",
       "      <td>-0.103</td>\n",
       "      <td>0.915</td>\n",
       "      <td>-0.602</td>\n",
       "      <td>1.751</td>\n",
       "      <td>1.785</td>\n",
       "      <td>-1.300</td>\n",
       "      <td>-0.391</td>\n",
       "      <td>1.837</td>\n",
       "      <td>-0.228</td>\n",
       "      <td>-0.814</td>\n",
       "      <td>1.008</td>\n",
       "      <td>-0.152</td>\n",
       "      <td>-1.831</td>\n",
       "      <td>-0.980</td>\n",
       "      <td>-1.054</td>\n",
       "      <td>1.319</td>\n",
       "      <td>-0.181</td>\n",
       "      <td>0.689</td>\n",
       "    </tr>\n",
       "    <tr>\n",
       "      <th>19749</th>\n",
       "      <td>19999</td>\n",
       "      <td>0.736</td>\n",
       "      <td>-0.216</td>\n",
       "      <td>-0.110</td>\n",
       "      <td>-1.404</td>\n",
       "      <td>-0.265</td>\n",
       "      <td>-1.770</td>\n",
       "      <td>0.715</td>\n",
       "      <td>0.469</td>\n",
       "      <td>1.077</td>\n",
       "      <td>0.333</td>\n",
       "      <td>-0.994</td>\n",
       "      <td>-0.331</td>\n",
       "      <td>1.009</td>\n",
       "      <td>0.607</td>\n",
       "      <td>-1.729</td>\n",
       "      <td>1.478</td>\n",
       "      <td>1.520</td>\n",
       "      <td>-1.282</td>\n",
       "      <td>-1.858</td>\n",
       "      <td>0.451</td>\n",
       "      <td>1.065</td>\n",
       "      <td>-1.493</td>\n",
       "      <td>-0.057</td>\n",
       "      <td>0.244</td>\n",
       "      <td>0.968</td>\n",
       "      <td>0.907</td>\n",
       "      <td>0.748</td>\n",
       "      <td>-0.191</td>\n",
       "      <td>0.236</td>\n",
       "      <td>-0.444</td>\n",
       "      <td>0.110</td>\n",
       "      <td>-0.173</td>\n",
       "      <td>-0.732</td>\n",
       "      <td>0.135</td>\n",
       "      <td>0.179</td>\n",
       "      <td>-0.221</td>\n",
       "      <td>-1.340</td>\n",
       "      <td>0.538</td>\n",
       "      <td>0.368</td>\n",
       "      <td>...</td>\n",
       "      <td>0.166</td>\n",
       "      <td>-0.251</td>\n",
       "      <td>-0.943</td>\n",
       "      <td>-0.698</td>\n",
       "      <td>-0.513</td>\n",
       "      <td>1.056</td>\n",
       "      <td>-0.366</td>\n",
       "      <td>-1.997</td>\n",
       "      <td>-0.438</td>\n",
       "      <td>-2.207</td>\n",
       "      <td>-0.801</td>\n",
       "      <td>0.273</td>\n",
       "      <td>0.402</td>\n",
       "      <td>-1.044</td>\n",
       "      <td>1.231</td>\n",
       "      <td>1.685</td>\n",
       "      <td>0.277</td>\n",
       "      <td>-1.378</td>\n",
       "      <td>-0.082</td>\n",
       "      <td>0.052</td>\n",
       "      <td>-1.102</td>\n",
       "      <td>0.215</td>\n",
       "      <td>1.488</td>\n",
       "      <td>0.832</td>\n",
       "      <td>0.482</td>\n",
       "      <td>-0.120</td>\n",
       "      <td>0.317</td>\n",
       "      <td>0.885</td>\n",
       "      <td>1.043</td>\n",
       "      <td>-0.320</td>\n",
       "      <td>-1.201</td>\n",
       "      <td>-1.633</td>\n",
       "      <td>0.448</td>\n",
       "      <td>-0.511</td>\n",
       "      <td>-0.516</td>\n",
       "      <td>1.565</td>\n",
       "      <td>0.318</td>\n",
       "      <td>-0.268</td>\n",
       "      <td>0.133</td>\n",
       "      <td>0.826</td>\n",
       "    </tr>\n",
       "  </tbody>\n",
       "</table>\n",
       "<p>19750 rows × 301 columns</p>\n",
       "</div>"
      ],
      "text/plain": [
       "          id      0      1      2      3  ...    295    296    297    298    299\n",
       "0        250  0.500 -1.033 -1.595  0.309  ...  2.132  0.609 -0.104  0.312  0.979\n",
       "1        251  0.776  0.914 -0.494  1.347  ... -1.133 -3.138  0.281 -0.625 -0.761\n",
       "2        252  1.750  0.509 -0.057  0.835  ...  0.701  0.976  0.135 -1.327  2.463\n",
       "3        253 -0.556 -1.855 -0.682  0.578  ...  0.916  2.411  1.053 -1.601 -1.529\n",
       "4        254  0.754 -0.245  1.173 -1.623  ...  0.322 -0.068 -0.156 -1.153  0.825\n",
       "...      ...    ...    ...    ...    ...  ...    ...    ...    ...    ...    ...\n",
       "19745  19995  1.069  0.517 -0.690  0.241  ...  0.996 -0.381 -0.748  1.567  1.165\n",
       "19746  19996 -0.529  0.438  0.672  1.436  ... -0.496 -0.940 -1.457 -1.152  0.937\n",
       "19747  19997 -0.554 -0.936 -1.427  0.027  ...  0.486 -0.375  1.546  0.759  0.519\n",
       "19748  19998 -0.746  1.205  0.750 -0.236  ... -0.980 -1.054  1.319 -0.181  0.689\n",
       "19749  19999  0.736 -0.216 -0.110 -1.404  ...  1.565  0.318 -0.268  0.133  0.826\n",
       "\n",
       "[19750 rows x 301 columns]"
      ]
     },
     "execution_count": 12,
     "metadata": {},
     "output_type": "execute_result"
    }
   ],
   "source": [
    "#Read test data\n",
    "df_test = pd.read_csv('test.csv')\n",
    "df_test"
   ]
  },
  {
   "cell_type": "code",
   "execution_count": 13,
   "metadata": {
    "id": "aqob7-WDwfxF"
   },
   "outputs": [],
   "source": [
    "df_train.dropna(inplace=True)\n",
    "df_test.dropna(inplace=True)"
   ]
  },
  {
   "cell_type": "code",
   "execution_count": 14,
   "metadata": {
    "id": "RJZlthxNgzsR"
   },
   "outputs": [],
   "source": [
    "X_train = (df_train.drop(['id','target'],axis = 1))\n",
    "X_test = (df_test.drop(['id'],axis = 1))\n",
    "\n",
    "y_train = df_train['target']\n",
    "\n",
    "#n_fold = 20\n",
    "#folds = StratifiedKFold(n_splits=n_fold, shuffle=True, random_state=42)\n",
    "#repeated_folds = RepeatedStratifiedKFold(n_splits=20, n_repeats=20, random_state=42)\n",
    "\n"
   ]
  },
  {
   "cell_type": "code",
   "execution_count": 15,
   "metadata": {
    "colab": {
     "base_uri": "https://localhost:8080/"
    },
    "id": "ptsUWn4fxZE6",
    "outputId": "d6d574df-11ff-4a95-ad8f-20961e81430f"
   },
   "outputs": [
    {
     "data": {
      "text/plain": [
       "(250, 300)"
      ]
     },
     "execution_count": 15,
     "metadata": {},
     "output_type": "execute_result"
    }
   ],
   "source": [
    "X_train.shape"
   ]
  },
  {
   "cell_type": "code",
   "execution_count": 16,
   "metadata": {
    "colab": {
     "base_uri": "https://localhost:8080/"
    },
    "id": "fmXoYUP2_O4A",
    "outputId": "07a9b589-3772-40cc-f617-78f0fb25d377"
   },
   "outputs": [
    {
     "data": {
      "text/plain": [
       "(19750, 300)"
      ]
     },
     "execution_count": 16,
     "metadata": {},
     "output_type": "execute_result"
    }
   ],
   "source": [
    "X_test.shape"
   ]
  },
  {
   "cell_type": "markdown",
   "metadata": {
    "id": "Hz4jjDEF8aez"
   },
   "source": [
    "**I will do hyper tuning**"
   ]
  },
  {
   "cell_type": "code",
   "execution_count": 104,
   "metadata": {
    "id": "JUknl7mRh-SP"
   },
   "outputs": [],
   "source": [
    "def hyperparameter_model(models, params):\n",
    "  '''\n",
    "  Hyperparameter tuning with StratifiedKFold follow by GridSearchCV follow by␣\n",
    "  ,→CalibratedClassifier\n",
    "  Parameters:\n",
    "  models: Instance of the model \n",
    "  params: list of parameters with value fr tuning (dict)\n",
    "  Return:\n",
    "  grid_clf: return gridsearch model\n",
    "  '''\n",
    "  # Perform KCrossValidation with stratified target\n",
    "  str_cv = StratifiedKFold(n_splits=11, random_state=42,shuffle=True)\n",
    "  # Perform Hyperparamter using GridSearchCV\n",
    "  grid_clf = GridSearchCV(models, params, cv=str_cv, return_train_score=True,scoring='roc_auc')\n",
    "  # Fit the train model to evaluate score\n",
    "  grid_clf.fit(X_train, y_train)\n",
    "  return grid_clf"
   ]
  },
  {
   "cell_type": "code",
   "execution_count": 105,
   "metadata": {
    "id": "W196WHzpK50F"
   },
   "outputs": [],
   "source": [
    "#kNN (See Docs: https://scikit-learn.org/stable/modules/generated/sklearn.→neighbors.KNeighborsClassifier.html)\n",
    "# List of params\n",
    "# List of params\n",
    "params = {'n_neighbors':np.arange(3,51,2).tolist(), 'algorithm': ['kd_tree','brute']}\n",
    "\n",
    "# Instance of knn model\n",
    "knn_model = KNeighborsClassifier()\n",
    "# Call hyperparameter for find the best params as possible\n",
    "knn_clf = hyperparameter_model(knn_model, params)\n"
   ]
  },
  {
   "cell_type": "code",
   "execution_count": 108,
   "metadata": {
    "colab": {
     "base_uri": "https://localhost:8080/"
    },
    "id": "xXL2sOdTixZf",
    "outputId": "c1fac472-909f-4972-f478-ae9597392a49"
   },
   "outputs": [
    {
     "name": "stdout",
     "output_type": "stream",
     "text": [
      "{'algorithm': 'kd_tree', 'n_neighbors': 45}\n"
     ]
    }
   ],
   "source": [
    "print(knn_clf.best_params_)"
   ]
  },
  {
   "cell_type": "code",
   "execution_count": 109,
   "metadata": {
    "colab": {
     "base_uri": "https://localhost:8080/"
    },
    "id": "YK1R0LFihQLS",
    "outputId": "2ceecbdf-8738-4f98-d5c5-b6ec2b3ca39a"
   },
   "outputs": [
    {
     "data": {
      "text/plain": [
       "KNeighborsClassifier(algorithm='kd_tree', n_neighbors=45)"
      ]
     },
     "execution_count": 109,
     "metadata": {},
     "output_type": "execute_result"
    }
   ],
   "source": [
    "from sklearn.utils import class_weight\n",
    "knn_model = KNeighborsClassifier(**knn_clf.best_params_,weights='uniform')\n",
    "knn_model.fit(X_train,y_train)"
   ]
  },
  {
   "cell_type": "code",
   "execution_count": 110,
   "metadata": {
    "colab": {
     "base_uri": "https://localhost:8080/"
    },
    "id": "kkUF4IOAhj3e",
    "outputId": "3122173c-b801-4800-c709-0c8fc568ece4"
   },
   "outputs": [
    {
     "name": "stdout",
     "output_type": "stream",
     "text": [
      "[1. 1. 1. 1. 1. 1. 1. 1. 1. 1. 1. 1. 1. 1. 1. 1. 1. 0. 1. 1. 1. 1. 0. 1.\n",
      " 1. 1. 1. 1. 1. 1. 1. 1. 1. 1. 1. 1. 1. 1. 1. 1. 1. 1. 1. 1. 1. 1. 1. 1.\n",
      " 1. 1. 1. 1. 1. 1. 1. 1. 1. 1. 1. 1. 1. 1. 1. 1. 1. 1. 1. 1. 1. 1. 1. 1.\n",
      " 1. 1. 1. 1. 1. 1. 1. 1. 1. 1. 1. 1. 1. 1. 1. 1. 1. 1. 1. 0. 1. 1. 1. 1.\n",
      " 1. 1. 1. 1. 1. 1. 0. 1. 1. 1. 1. 1. 1. 1. 1. 1. 1. 1. 1. 1. 1. 1. 0. 1.\n",
      " 1. 1. 1. 1. 1. 1. 1. 1. 1. 1. 1. 1. 1. 1. 1. 1. 1. 1. 1. 1. 1. 0. 1. 1.\n",
      " 1. 1. 1. 1. 1. 1. 1. 1. 1. 1. 1. 1. 1. 1. 1. 1. 1. 1. 1. 1. 1. 1. 1. 1.\n",
      " 1. 1. 1. 1. 1. 1. 1. 1. 1. 1. 0. 1. 1. 1. 1. 1. 1. 1. 1. 1. 1. 1. 1. 1.\n",
      " 1. 1. 1. 1. 1. 1. 0. 1. 1. 1. 1. 1. 1. 0. 1. 1. 1. 1. 1. 0. 1. 1. 1. 1.\n",
      " 1. 1. 1. 1. 1. 1. 1. 1. 1. 1. 1. 1. 1. 1. 1. 1. 1. 1. 1. 1. 1. 1. 1. 1.\n",
      " 1. 1. 1. 1. 1. 1. 1. 1. 1. 1.]\n"
     ]
    }
   ],
   "source": [
    "y_pred = knn_model.predict(X_train)\n",
    "print(y_pred)"
   ]
  },
  {
   "cell_type": "code",
   "execution_count": 111,
   "metadata": {
    "colab": {
     "base_uri": "https://localhost:8080/"
    },
    "id": "fVnLllIKpviQ",
    "outputId": "872e31d0-0030-4b7a-e81e-5a14a03a631a"
   },
   "outputs": [
    {
     "name": "stdout",
     "output_type": "stream",
     "text": [
      "0.5555555555555556\n"
     ]
    }
   ],
   "source": [
    "train_auc = roc_auc_score(y_train,y_pred)\n",
    "print(train_auc)"
   ]
  },
  {
   "cell_type": "code",
   "execution_count": 112,
   "metadata": {
    "id": "qPTCaJeuhtaz"
   },
   "outputs": [],
   "source": [
    "y_predict = knn_model.predict_proba(X_test)[:,1]"
   ]
  },
  {
   "cell_type": "code",
   "execution_count": 113,
   "metadata": {
    "colab": {
     "base_uri": "https://localhost:8080/",
     "height": 676
    },
    "id": "0l5imQ4fU-U6",
    "outputId": "e9565b86-fe15-49fb-b390-8b5915ba14aa"
   },
   "outputs": [
    {
     "data": {
      "text/html": [
       "<div>\n",
       "<style scoped>\n",
       "    .dataframe tbody tr th:only-of-type {\n",
       "        vertical-align: middle;\n",
       "    }\n",
       "\n",
       "    .dataframe tbody tr th {\n",
       "        vertical-align: top;\n",
       "    }\n",
       "\n",
       "    .dataframe thead th {\n",
       "        text-align: right;\n",
       "    }\n",
       "</style>\n",
       "<table border=\"1\" class=\"dataframe\">\n",
       "  <thead>\n",
       "    <tr style=\"text-align: right;\">\n",
       "      <th></th>\n",
       "      <th>ID</th>\n",
       "      <th>Target</th>\n",
       "    </tr>\n",
       "  </thead>\n",
       "  <tbody>\n",
       "    <tr>\n",
       "      <th>0</th>\n",
       "      <td>250</td>\n",
       "      <td>0.666667</td>\n",
       "    </tr>\n",
       "    <tr>\n",
       "      <th>1</th>\n",
       "      <td>251</td>\n",
       "      <td>0.622222</td>\n",
       "    </tr>\n",
       "    <tr>\n",
       "      <th>2</th>\n",
       "      <td>252</td>\n",
       "      <td>0.600000</td>\n",
       "    </tr>\n",
       "    <tr>\n",
       "      <th>3</th>\n",
       "      <td>253</td>\n",
       "      <td>0.644444</td>\n",
       "    </tr>\n",
       "    <tr>\n",
       "      <th>4</th>\n",
       "      <td>254</td>\n",
       "      <td>0.644444</td>\n",
       "    </tr>\n",
       "    <tr>\n",
       "      <th>5</th>\n",
       "      <td>255</td>\n",
       "      <td>0.600000</td>\n",
       "    </tr>\n",
       "    <tr>\n",
       "      <th>6</th>\n",
       "      <td>256</td>\n",
       "      <td>0.622222</td>\n",
       "    </tr>\n",
       "    <tr>\n",
       "      <th>7</th>\n",
       "      <td>257</td>\n",
       "      <td>0.644444</td>\n",
       "    </tr>\n",
       "    <tr>\n",
       "      <th>8</th>\n",
       "      <td>258</td>\n",
       "      <td>0.644444</td>\n",
       "    </tr>\n",
       "    <tr>\n",
       "      <th>9</th>\n",
       "      <td>259</td>\n",
       "      <td>0.555556</td>\n",
       "    </tr>\n",
       "    <tr>\n",
       "      <th>10</th>\n",
       "      <td>260</td>\n",
       "      <td>0.555556</td>\n",
       "    </tr>\n",
       "    <tr>\n",
       "      <th>11</th>\n",
       "      <td>261</td>\n",
       "      <td>0.600000</td>\n",
       "    </tr>\n",
       "    <tr>\n",
       "      <th>12</th>\n",
       "      <td>262</td>\n",
       "      <td>0.533333</td>\n",
       "    </tr>\n",
       "    <tr>\n",
       "      <th>13</th>\n",
       "      <td>263</td>\n",
       "      <td>0.644444</td>\n",
       "    </tr>\n",
       "    <tr>\n",
       "      <th>14</th>\n",
       "      <td>264</td>\n",
       "      <td>0.644444</td>\n",
       "    </tr>\n",
       "    <tr>\n",
       "      <th>15</th>\n",
       "      <td>265</td>\n",
       "      <td>0.644444</td>\n",
       "    </tr>\n",
       "    <tr>\n",
       "      <th>16</th>\n",
       "      <td>266</td>\n",
       "      <td>0.666667</td>\n",
       "    </tr>\n",
       "    <tr>\n",
       "      <th>17</th>\n",
       "      <td>267</td>\n",
       "      <td>0.600000</td>\n",
       "    </tr>\n",
       "    <tr>\n",
       "      <th>18</th>\n",
       "      <td>268</td>\n",
       "      <td>0.555556</td>\n",
       "    </tr>\n",
       "    <tr>\n",
       "      <th>19</th>\n",
       "      <td>269</td>\n",
       "      <td>0.555556</td>\n",
       "    </tr>\n",
       "  </tbody>\n",
       "</table>\n",
       "</div>"
      ],
      "text/plain": [
       "     ID    Target\n",
       "0   250  0.666667\n",
       "1   251  0.622222\n",
       "2   252  0.600000\n",
       "3   253  0.644444\n",
       "4   254  0.644444\n",
       "5   255  0.600000\n",
       "6   256  0.622222\n",
       "7   257  0.644444\n",
       "8   258  0.644444\n",
       "9   259  0.555556\n",
       "10  260  0.555556\n",
       "11  261  0.600000\n",
       "12  262  0.533333\n",
       "13  263  0.644444\n",
       "14  264  0.644444\n",
       "15  265  0.644444\n",
       "16  266  0.666667\n",
       "17  267  0.600000\n",
       "18  268  0.555556\n",
       "19  269  0.555556"
      ]
     },
     "execution_count": 113,
     "metadata": {},
     "output_type": "execute_result"
    }
   ],
   "source": [
    "y_pred_lr_test = pd.DataFrame({\"ID\": df_test['id'],\"Target\": y_predict})\n",
    "\n",
    "\n",
    "y_pred_lr_test.to_csv('submission_knn_file.csv', index=False)  \n",
    "y_pred_lr_test.head(20)"
   ]
  },
  {
   "cell_type": "markdown",
   "metadata": {
    "id": "va85WcooZAsw"
   },
   "source": [
    "![image.png](data:image/png;base64,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)"
   ]
  },
  {
   "cell_type": "markdown",
   "metadata": {
    "id": "d0_WxrLqzFvm"
   },
   "source": [
    "test_auc = 0.658"
   ]
  },
  {
   "cell_type": "markdown",
   "metadata": {
    "id": "i9FEesNwzLNU"
   },
   "source": [
    "**Logistic Regresstion Applied**"
   ]
  },
  {
   "cell_type": "code",
   "execution_count": 25,
   "metadata": {
    "id": "Zv44Qdq2zSxO"
   },
   "outputs": [],
   "source": [
    "#ref= https://scikit-learn.org/stable/modules/generated/sklearn.linear_model.LogisticRegression.html\n",
    "\n",
    "params = {'penalty':['l1','l2','elasticnet'],'C':[10**i for i in range(-4,5)], 'solver':['liblinear','sag']}\n",
    "\n",
    "#the instance  of Logistic Regression\n",
    "\n",
    "log_model = LogisticRegression(random_state=42)\n",
    "\n",
    "#Call Hyper-parameter function to get best hyperparameter tuning\n",
    "\n",
    "log_clf = hyperparameter_model(log_model,params)\n",
    "\n"
   ]
  },
  {
   "cell_type": "code",
   "execution_count": 26,
   "metadata": {
    "colab": {
     "base_uri": "https://localhost:8080/"
    },
    "id": "x3GrhbEGEF0L",
    "outputId": "14363c80-6235-415b-cd2d-1bb9417e4f38"
   },
   "outputs": [
    {
     "name": "stdout",
     "output_type": "stream",
     "text": [
      "{'C': 0.1, 'penalty': 'l1', 'solver': 'liblinear'}\n"
     ]
    }
   ],
   "source": [
    "print(log_clf.best_params_)"
   ]
  },
  {
   "cell_type": "code",
   "execution_count": 27,
   "metadata": {
    "colab": {
     "base_uri": "https://localhost:8080/"
    },
    "id": "wI2yEI3b-W9d",
    "outputId": "4172f0f7-37ca-4d33-c4f4-fae60af107e9"
   },
   "outputs": [
    {
     "data": {
      "text/plain": [
       "LogisticRegression(C=0.1, class_weight='balanced', penalty='l1',\n",
       "                   solver='liblinear')"
      ]
     },
     "execution_count": 27,
     "metadata": {},
     "output_type": "execute_result"
    }
   ],
   "source": [
    "from sklearn import linear_model\n",
    "\n",
    "model = LogisticRegression(class_weight = 'balanced',penalty='l1', C=0.1, solver='liblinear')\n",
    "\n",
    "model.fit(X_train,y_train)"
   ]
  },
  {
   "cell_type": "code",
   "execution_count": 28,
   "metadata": {
    "colab": {
     "base_uri": "https://localhost:8080/"
    },
    "id": "sgslmwzu3RVZ",
    "outputId": "c1e1e40c-c853-4c41-f7f0-30dcea8dad3f"
   },
   "outputs": [
    {
     "name": "stdout",
     "output_type": "stream",
     "text": [
      "[1. 0. 1. 0. 1. 1. 1. 1. 1. 1. 0. 1. 1. 0. 0. 1. 1. 0. 1. 1. 1. 1. 0. 0.\n",
      " 0. 0. 1. 1. 1. 1. 1. 1. 0. 0. 1. 0. 1. 1. 0. 0. 1. 1. 1. 0. 1. 1. 1. 1.\n",
      " 0. 0. 0. 1. 0. 0. 1. 1. 0. 1. 0. 0. 0. 0. 0. 0. 0. 1. 0. 1. 1. 1. 0. 1.\n",
      " 1. 1. 0. 0. 1. 0. 0. 1. 1. 0. 0. 1. 1. 1. 0. 0. 1. 1. 1. 0. 0. 0. 1. 1.\n",
      " 0. 1. 1. 1. 1. 0. 0. 1. 0. 1. 1. 0. 0. 1. 1. 0. 1. 1. 0. 1. 1. 0. 0. 1.\n",
      " 0. 1. 0. 0. 0. 1. 1. 0. 0. 1. 1. 1. 0. 1. 0. 1. 0. 1. 1. 0. 1. 0. 1. 0.\n",
      " 1. 0. 1. 0. 0. 1. 0. 1. 1. 0. 0. 1. 1. 0. 0. 1. 1. 0. 1. 1. 0. 1. 0. 1.\n",
      " 0. 0. 0. 0. 0. 1. 1. 1. 1. 0. 0. 1. 0. 0. 0. 0. 0. 0. 1. 1. 1. 0. 0. 1.\n",
      " 1. 0. 0. 1. 0. 1. 0. 1. 1. 0. 1. 1. 1. 0. 0. 0. 1. 0. 0. 0. 0. 1. 1. 0.\n",
      " 1. 1. 0. 1. 1. 1. 1. 1. 1. 0. 1. 0. 0. 1. 1. 1. 1. 0. 0. 1. 1. 1. 1. 0.\n",
      " 0. 1. 0. 0. 0. 0. 0. 0. 1. 0.]\n"
     ]
    }
   ],
   "source": [
    "y_pred = model.predict(X_train)\n",
    "print(y_pred)"
   ]
  },
  {
   "cell_type": "code",
   "execution_count": 29,
   "metadata": {
    "colab": {
     "base_uri": "https://localhost:8080/"
    },
    "id": "HEoHs6CO3cAV",
    "outputId": "eddfc842-05c6-4151-db9f-3850cc9f57b1"
   },
   "outputs": [
    {
     "name": "stdout",
     "output_type": "stream",
     "text": [
      "0.8951388888888888\n"
     ]
    }
   ],
   "source": [
    "train_auc_lr = roc_auc_score(y_train,y_pred)\n",
    "print(train_auc_lr)"
   ]
  },
  {
   "cell_type": "code",
   "execution_count": 30,
   "metadata": {
    "colab": {
     "base_uri": "https://localhost:8080/"
    },
    "id": "gqNJ5XfP_e0-",
    "outputId": "8a177f25-63fa-4dfd-bd3d-9b38003d3711"
   },
   "outputs": [
    {
     "name": "stdout",
     "output_type": "stream",
     "text": [
      "[0.66542599 0.49363699 0.54808538 ... 0.34306623 0.79406723 0.22330863]\n"
     ]
    }
   ],
   "source": [
    "y_pred_lr_test = model.predict_proba(X_test)[:,1]\n",
    "print(y_pred_lr_test)"
   ]
  },
  {
   "cell_type": "code",
   "execution_count": 31,
   "metadata": {
    "colab": {
     "base_uri": "https://localhost:8080/",
     "height": 676
    },
    "id": "O2z5oJ8m3vaG",
    "outputId": "8249f40a-57bb-4394-a4af-aed8514c7884"
   },
   "outputs": [
    {
     "data": {
      "text/html": [
       "<div>\n",
       "<style scoped>\n",
       "    .dataframe tbody tr th:only-of-type {\n",
       "        vertical-align: middle;\n",
       "    }\n",
       "\n",
       "    .dataframe tbody tr th {\n",
       "        vertical-align: top;\n",
       "    }\n",
       "\n",
       "    .dataframe thead th {\n",
       "        text-align: right;\n",
       "    }\n",
       "</style>\n",
       "<table border=\"1\" class=\"dataframe\">\n",
       "  <thead>\n",
       "    <tr style=\"text-align: right;\">\n",
       "      <th></th>\n",
       "      <th>ID</th>\n",
       "      <th>Target</th>\n",
       "    </tr>\n",
       "  </thead>\n",
       "  <tbody>\n",
       "    <tr>\n",
       "      <th>0</th>\n",
       "      <td>250</td>\n",
       "      <td>0.665426</td>\n",
       "    </tr>\n",
       "    <tr>\n",
       "      <th>1</th>\n",
       "      <td>251</td>\n",
       "      <td>0.493637</td>\n",
       "    </tr>\n",
       "    <tr>\n",
       "      <th>2</th>\n",
       "      <td>252</td>\n",
       "      <td>0.548085</td>\n",
       "    </tr>\n",
       "    <tr>\n",
       "      <th>3</th>\n",
       "      <td>253</td>\n",
       "      <td>0.758678</td>\n",
       "    </tr>\n",
       "    <tr>\n",
       "      <th>4</th>\n",
       "      <td>254</td>\n",
       "      <td>0.401662</td>\n",
       "    </tr>\n",
       "    <tr>\n",
       "      <th>5</th>\n",
       "      <td>255</td>\n",
       "      <td>0.313830</td>\n",
       "    </tr>\n",
       "    <tr>\n",
       "      <th>6</th>\n",
       "      <td>256</td>\n",
       "      <td>0.339976</td>\n",
       "    </tr>\n",
       "    <tr>\n",
       "      <th>7</th>\n",
       "      <td>257</td>\n",
       "      <td>0.211075</td>\n",
       "    </tr>\n",
       "    <tr>\n",
       "      <th>8</th>\n",
       "      <td>258</td>\n",
       "      <td>0.673940</td>\n",
       "    </tr>\n",
       "    <tr>\n",
       "      <th>9</th>\n",
       "      <td>259</td>\n",
       "      <td>0.214554</td>\n",
       "    </tr>\n",
       "    <tr>\n",
       "      <th>10</th>\n",
       "      <td>260</td>\n",
       "      <td>0.511906</td>\n",
       "    </tr>\n",
       "    <tr>\n",
       "      <th>11</th>\n",
       "      <td>261</td>\n",
       "      <td>0.364041</td>\n",
       "    </tr>\n",
       "    <tr>\n",
       "      <th>12</th>\n",
       "      <td>262</td>\n",
       "      <td>0.317890</td>\n",
       "    </tr>\n",
       "    <tr>\n",
       "      <th>13</th>\n",
       "      <td>263</td>\n",
       "      <td>0.666236</td>\n",
       "    </tr>\n",
       "    <tr>\n",
       "      <th>14</th>\n",
       "      <td>264</td>\n",
       "      <td>0.286479</td>\n",
       "    </tr>\n",
       "    <tr>\n",
       "      <th>15</th>\n",
       "      <td>265</td>\n",
       "      <td>0.683664</td>\n",
       "    </tr>\n",
       "    <tr>\n",
       "      <th>16</th>\n",
       "      <td>266</td>\n",
       "      <td>0.307416</td>\n",
       "    </tr>\n",
       "    <tr>\n",
       "      <th>17</th>\n",
       "      <td>267</td>\n",
       "      <td>0.723669</td>\n",
       "    </tr>\n",
       "    <tr>\n",
       "      <th>18</th>\n",
       "      <td>268</td>\n",
       "      <td>0.436554</td>\n",
       "    </tr>\n",
       "    <tr>\n",
       "      <th>19</th>\n",
       "      <td>269</td>\n",
       "      <td>0.304132</td>\n",
       "    </tr>\n",
       "  </tbody>\n",
       "</table>\n",
       "</div>"
      ],
      "text/plain": [
       "     ID    Target\n",
       "0   250  0.665426\n",
       "1   251  0.493637\n",
       "2   252  0.548085\n",
       "3   253  0.758678\n",
       "4   254  0.401662\n",
       "5   255  0.313830\n",
       "6   256  0.339976\n",
       "7   257  0.211075\n",
       "8   258  0.673940\n",
       "9   259  0.214554\n",
       "10  260  0.511906\n",
       "11  261  0.364041\n",
       "12  262  0.317890\n",
       "13  263  0.666236\n",
       "14  264  0.286479\n",
       "15  265  0.683664\n",
       "16  266  0.307416\n",
       "17  267  0.723669\n",
       "18  268  0.436554\n",
       "19  269  0.304132"
      ]
     },
     "execution_count": 31,
     "metadata": {},
     "output_type": "execute_result"
    }
   ],
   "source": [
    "y_pred_lr_test = pd.DataFrame({\"ID\": df_test['id'],\"Target\": y_pred_lr_test})\n",
    "\n",
    "\n",
    "y_pred_lr_test.to_csv('submission_logs_fie.csv', index=False)  \n",
    "y_pred_lr_test.head(20)"
   ]
  },
  {
   "cell_type": "markdown",
   "metadata": {
    "id": "4fyK1Y9lZ9h5"
   },
   "source": [
    "![image.png](data:image/png;base64,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)"
   ]
  },
  {
   "cell_type": "markdown",
   "metadata": {
    "id": "b7O-rt8O4Y-_"
   },
   "source": [
    "logistic_test_auc = 0.844"
   ]
  },
  {
   "cell_type": "markdown",
   "metadata": {
    "id": "Ahv9Kw2B4jNw"
   },
   "source": [
    "**Support Vector Machine**"
   ]
  },
  {
   "cell_type": "code",
   "execution_count": 32,
   "metadata": {
    "id": "7huFmv4cQiVN"
   },
   "outputs": [],
   "source": [
    "from sklearn.svm import SVC"
   ]
  },
  {
   "cell_type": "code",
   "execution_count": 33,
   "metadata": {
    "id": "PIHOk8G9443L"
   },
   "outputs": [],
   "source": [
    "#ref = https://scikit-learn.org/stable/modules/svm.html\n",
    "\n",
    "params = {'C':[10**i for i in range(-4,5)],'kernel':['linear','poly','sigmoid','rdf']}\n",
    "\n",
    "#The instance of SVC\n",
    "\n",
    "svc_model = SVC(class_weight='balanced',random_state=42)\n",
    "#call the hyper-parameter function to get best parameters\n",
    "\n",
    "svc_clf = hyperparameter_model(svc_model,params)"
   ]
  },
  {
   "cell_type": "code",
   "execution_count": 34,
   "metadata": {
    "colab": {
     "base_uri": "https://localhost:8080/"
    },
    "id": "q8yLZv20QqvH",
    "outputId": "a80a253c-ea86-4c3f-f137-1d4fdc416a79"
   },
   "outputs": [
    {
     "name": "stdout",
     "output_type": "stream",
     "text": [
      "{'C': 0.0001, 'kernel': 'sigmoid'}\n"
     ]
    }
   ],
   "source": [
    "print(svc_clf.best_params_)"
   ]
  },
  {
   "cell_type": "code",
   "execution_count": 35,
   "metadata": {
    "colab": {
     "base_uri": "https://localhost:8080/"
    },
    "id": "7MPRfFtaQxLr",
    "outputId": "136a6820-a976-4c7b-c5c2-c2c5f4699847"
   },
   "outputs": [
    {
     "data": {
      "text/plain": [
       "SVC(C=0.0001, kernel='sigmoid', probability=True)"
      ]
     },
     "execution_count": 35,
     "metadata": {},
     "output_type": "execute_result"
    }
   ],
   "source": [
    "svc_clf = SVC(C = 0.0001, kernel = 'sigmoid',probability=True)\n",
    "svc_clf.fit(X_train,y_train)"
   ]
  },
  {
   "cell_type": "code",
   "execution_count": 36,
   "metadata": {
    "colab": {
     "base_uri": "https://localhost:8080/"
    },
    "id": "xDPyvvboRVZ6",
    "outputId": "15cc272d-9f6d-4598-ab5b-aaeb5d00bc72"
   },
   "outputs": [
    {
     "name": "stdout",
     "output_type": "stream",
     "text": [
      "0.5\n"
     ]
    }
   ],
   "source": [
    "y_pred = svc_clf.predict(X_train)\n",
    "train_svm_auc = roc_auc_score(y_train,y_pred)\n",
    "print(train_svm_auc)"
   ]
  },
  {
   "cell_type": "code",
   "execution_count": 37,
   "metadata": {
    "id": "7MKkTWXOR1ZE"
   },
   "outputs": [],
   "source": [
    "y_pred_svc_test = svc_clf.predict_proba(X_test)[:,1]\n"
   ]
  },
  {
   "cell_type": "code",
   "execution_count": 38,
   "metadata": {
    "colab": {
     "base_uri": "https://localhost:8080/",
     "height": 363
    },
    "id": "AhHMLzBN_l4O",
    "outputId": "289950d1-d7b4-4182-c60e-59c3cf79c8fa"
   },
   "outputs": [
    {
     "data": {
      "text/html": [
       "<div>\n",
       "<style scoped>\n",
       "    .dataframe tbody tr th:only-of-type {\n",
       "        vertical-align: middle;\n",
       "    }\n",
       "\n",
       "    .dataframe tbody tr th {\n",
       "        vertical-align: top;\n",
       "    }\n",
       "\n",
       "    .dataframe thead th {\n",
       "        text-align: right;\n",
       "    }\n",
       "</style>\n",
       "<table border=\"1\" class=\"dataframe\">\n",
       "  <thead>\n",
       "    <tr style=\"text-align: right;\">\n",
       "      <th></th>\n",
       "      <th>ID</th>\n",
       "      <th>Target</th>\n",
       "    </tr>\n",
       "  </thead>\n",
       "  <tbody>\n",
       "    <tr>\n",
       "      <th>0</th>\n",
       "      <td>250</td>\n",
       "      <td>0.588435</td>\n",
       "    </tr>\n",
       "    <tr>\n",
       "      <th>1</th>\n",
       "      <td>251</td>\n",
       "      <td>0.809681</td>\n",
       "    </tr>\n",
       "    <tr>\n",
       "      <th>2</th>\n",
       "      <td>252</td>\n",
       "      <td>0.429262</td>\n",
       "    </tr>\n",
       "    <tr>\n",
       "      <th>3</th>\n",
       "      <td>253</td>\n",
       "      <td>0.868921</td>\n",
       "    </tr>\n",
       "    <tr>\n",
       "      <th>4</th>\n",
       "      <td>254</td>\n",
       "      <td>0.468427</td>\n",
       "    </tr>\n",
       "    <tr>\n",
       "      <th>5</th>\n",
       "      <td>255</td>\n",
       "      <td>0.514445</td>\n",
       "    </tr>\n",
       "    <tr>\n",
       "      <th>6</th>\n",
       "      <td>256</td>\n",
       "      <td>0.267929</td>\n",
       "    </tr>\n",
       "    <tr>\n",
       "      <th>7</th>\n",
       "      <td>257</td>\n",
       "      <td>0.790950</td>\n",
       "    </tr>\n",
       "    <tr>\n",
       "      <th>8</th>\n",
       "      <td>258</td>\n",
       "      <td>0.414834</td>\n",
       "    </tr>\n",
       "    <tr>\n",
       "      <th>9</th>\n",
       "      <td>259</td>\n",
       "      <td>0.634586</td>\n",
       "    </tr>\n",
       "  </tbody>\n",
       "</table>\n",
       "</div>"
      ],
      "text/plain": [
       "    ID    Target\n",
       "0  250  0.588435\n",
       "1  251  0.809681\n",
       "2  252  0.429262\n",
       "3  253  0.868921\n",
       "4  254  0.468427\n",
       "5  255  0.514445\n",
       "6  256  0.267929\n",
       "7  257  0.790950\n",
       "8  258  0.414834\n",
       "9  259  0.634586"
      ]
     },
     "execution_count": 38,
     "metadata": {},
     "output_type": "execute_result"
    }
   ],
   "source": [
    "y_pred_svc_test = pd.DataFrame({\"ID\": df_test['id'],\"Target\": y_pred_svc_test})\n",
    "\n",
    "\n",
    "y_pred_svc_test.to_csv('submission_svm_file.csv', index=False)  \n",
    "y_pred_svc_test.head(10)"
   ]
  },
  {
   "cell_type": "markdown",
   "metadata": {
    "id": "yI_-xpsLaz39"
   },
   "source": [
    "![image.png](data:image/png;base64,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)"
   ]
  },
  {
   "cell_type": "markdown",
   "metadata": {
    "id": "YHuUR_cqS3Jn"
   },
   "source": [
    "Test_SVM_auc = 0.72"
   ]
  },
  {
   "cell_type": "markdown",
   "metadata": {
    "id": "Ut6ZQ-o3S9X7"
   },
   "source": [
    "**Ensemble Model : Random Forest**"
   ]
  },
  {
   "cell_type": "code",
   "execution_count": 39,
   "metadata": {
    "id": "UTD0YUqoS8Lc"
   },
   "outputs": [],
   "source": [
    "from sklearn.ensemble import RandomForestClassifier"
   ]
  },
  {
   "cell_type": "code",
   "execution_count": 41,
   "metadata": {
    "id": "vFoVUeJAcdqW"
   },
   "outputs": [],
   "source": [
    "#https://scikit-learn.org/stable/modules/generated/sklearn.ensemble.RandomForestClassifier.html\n",
    "params = {'n_estimators': [10,20,30,40,50,60,100,200,300,400,500],'max_depth':[2,3,5,7,9]}\n",
    "\n",
    "#The instance of model\n",
    "\n",
    "rdf_model = RandomForestClassifier(random_state=42)\n",
    "\n",
    "# Call the hyperparameter function  to get best parameter\n",
    "rdf_clf = hyperparameter_model(rdf_model,params)\n"
   ]
  },
  {
   "cell_type": "code",
   "execution_count": 42,
   "metadata": {
    "colab": {
     "base_uri": "https://localhost:8080/"
    },
    "id": "HDNLg3zMfBD8",
    "outputId": "7752b1e6-62e2-4d9b-ea62-e353ba0fcee8"
   },
   "outputs": [
    {
     "name": "stdout",
     "output_type": "stream",
     "text": [
      "{'max_depth': 2, 'n_estimators': 400}\n"
     ]
    }
   ],
   "source": [
    "print(rdf_clf.best_params_)"
   ]
  },
  {
   "cell_type": "code",
   "execution_count": 43,
   "metadata": {
    "colab": {
     "base_uri": "https://localhost:8080/"
    },
    "id": "n6XxvohjgYpJ",
    "outputId": "504e7090-6707-4faf-c6ea-b5f61a77f1f5"
   },
   "outputs": [
    {
     "data": {
      "text/plain": [
       "RandomForestClassifier(max_depth=2, n_estimators=400)"
      ]
     },
     "execution_count": 43,
     "metadata": {},
     "output_type": "execute_result"
    }
   ],
   "source": [
    "rdf_clf = RandomForestClassifier(**rdf_clf.best_params_,bootstrap=True)\n",
    "rdf_clf.fit(X_train,y_train)"
   ]
  },
  {
   "cell_type": "code",
   "execution_count": 44,
   "metadata": {
    "colab": {
     "base_uri": "https://localhost:8080/"
    },
    "id": "RIp2FwfSg56V",
    "outputId": "20cd8aef-75d9-40fe-d21b-93ccb45c691d"
   },
   "outputs": [
    {
     "name": "stdout",
     "output_type": "stream",
     "text": [
      "0.5166666666666666\n"
     ]
    }
   ],
   "source": [
    "y_pred = rdf_clf.predict(X_train)\n",
    "train_rdf_auc = roc_auc_score(y_train,y_pred)\n",
    "print(train_rdf_auc)"
   ]
  },
  {
   "cell_type": "code",
   "execution_count": 45,
   "metadata": {
    "id": "CbKekPJKhvpU"
   },
   "outputs": [],
   "source": [
    "y_pred_rdf_test = rdf_clf.predict_proba(X_test)[:,1]"
   ]
  },
  {
   "cell_type": "code",
   "execution_count": 46,
   "metadata": {
    "colab": {
     "base_uri": "https://localhost:8080/",
     "height": 676
    },
    "id": "2MjMARjDhmBO",
    "outputId": "596acfc0-de5b-4a5c-f9d5-dc9dfff7f900"
   },
   "outputs": [
    {
     "data": {
      "text/html": [
       "<div>\n",
       "<style scoped>\n",
       "    .dataframe tbody tr th:only-of-type {\n",
       "        vertical-align: middle;\n",
       "    }\n",
       "\n",
       "    .dataframe tbody tr th {\n",
       "        vertical-align: top;\n",
       "    }\n",
       "\n",
       "    .dataframe thead th {\n",
       "        text-align: right;\n",
       "    }\n",
       "</style>\n",
       "<table border=\"1\" class=\"dataframe\">\n",
       "  <thead>\n",
       "    <tr style=\"text-align: right;\">\n",
       "      <th></th>\n",
       "      <th>ID</th>\n",
       "      <th>Target</th>\n",
       "    </tr>\n",
       "  </thead>\n",
       "  <tbody>\n",
       "    <tr>\n",
       "      <th>0</th>\n",
       "      <td>250</td>\n",
       "      <td>0.647066</td>\n",
       "    </tr>\n",
       "    <tr>\n",
       "      <th>1</th>\n",
       "      <td>251</td>\n",
       "      <td>0.641644</td>\n",
       "    </tr>\n",
       "    <tr>\n",
       "      <th>2</th>\n",
       "      <td>252</td>\n",
       "      <td>0.610497</td>\n",
       "    </tr>\n",
       "    <tr>\n",
       "      <th>3</th>\n",
       "      <td>253</td>\n",
       "      <td>0.686939</td>\n",
       "    </tr>\n",
       "    <tr>\n",
       "      <th>4</th>\n",
       "      <td>254</td>\n",
       "      <td>0.646141</td>\n",
       "    </tr>\n",
       "    <tr>\n",
       "      <th>5</th>\n",
       "      <td>255</td>\n",
       "      <td>0.605542</td>\n",
       "    </tr>\n",
       "    <tr>\n",
       "      <th>6</th>\n",
       "      <td>256</td>\n",
       "      <td>0.585545</td>\n",
       "    </tr>\n",
       "    <tr>\n",
       "      <th>7</th>\n",
       "      <td>257</td>\n",
       "      <td>0.616321</td>\n",
       "    </tr>\n",
       "    <tr>\n",
       "      <th>8</th>\n",
       "      <td>258</td>\n",
       "      <td>0.665471</td>\n",
       "    </tr>\n",
       "    <tr>\n",
       "      <th>9</th>\n",
       "      <td>259</td>\n",
       "      <td>0.598260</td>\n",
       "    </tr>\n",
       "    <tr>\n",
       "      <th>10</th>\n",
       "      <td>260</td>\n",
       "      <td>0.653798</td>\n",
       "    </tr>\n",
       "    <tr>\n",
       "      <th>11</th>\n",
       "      <td>261</td>\n",
       "      <td>0.619836</td>\n",
       "    </tr>\n",
       "    <tr>\n",
       "      <th>12</th>\n",
       "      <td>262</td>\n",
       "      <td>0.646692</td>\n",
       "    </tr>\n",
       "    <tr>\n",
       "      <th>13</th>\n",
       "      <td>263</td>\n",
       "      <td>0.651312</td>\n",
       "    </tr>\n",
       "    <tr>\n",
       "      <th>14</th>\n",
       "      <td>264</td>\n",
       "      <td>0.613722</td>\n",
       "    </tr>\n",
       "    <tr>\n",
       "      <th>15</th>\n",
       "      <td>265</td>\n",
       "      <td>0.676058</td>\n",
       "    </tr>\n",
       "    <tr>\n",
       "      <th>16</th>\n",
       "      <td>266</td>\n",
       "      <td>0.644975</td>\n",
       "    </tr>\n",
       "    <tr>\n",
       "      <th>17</th>\n",
       "      <td>267</td>\n",
       "      <td>0.629752</td>\n",
       "    </tr>\n",
       "    <tr>\n",
       "      <th>18</th>\n",
       "      <td>268</td>\n",
       "      <td>0.597876</td>\n",
       "    </tr>\n",
       "    <tr>\n",
       "      <th>19</th>\n",
       "      <td>269</td>\n",
       "      <td>0.624994</td>\n",
       "    </tr>\n",
       "  </tbody>\n",
       "</table>\n",
       "</div>"
      ],
      "text/plain": [
       "     ID    Target\n",
       "0   250  0.647066\n",
       "1   251  0.641644\n",
       "2   252  0.610497\n",
       "3   253  0.686939\n",
       "4   254  0.646141\n",
       "5   255  0.605542\n",
       "6   256  0.585545\n",
       "7   257  0.616321\n",
       "8   258  0.665471\n",
       "9   259  0.598260\n",
       "10  260  0.653798\n",
       "11  261  0.619836\n",
       "12  262  0.646692\n",
       "13  263  0.651312\n",
       "14  264  0.613722\n",
       "15  265  0.676058\n",
       "16  266  0.644975\n",
       "17  267  0.629752\n",
       "18  268  0.597876\n",
       "19  269  0.624994"
      ]
     },
     "execution_count": 46,
     "metadata": {},
     "output_type": "execute_result"
    }
   ],
   "source": [
    "y_pred_rdf_test = pd.DataFrame({\"ID\": df_test['id'],\"Target\": y_pred_rdf_test})\n",
    "\n",
    "\n",
    "y_pred_rdf_test.to_csv('submission_rdf_file.csv', index=False)  \n",
    "y_pred_rdf_test.head(20)"
   ]
  },
  {
   "cell_type": "markdown",
   "metadata": {
    "id": "DdisCKpscqoV"
   },
   "source": [
    "![image.png](data:image/png;base64,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)"
   ]
  },
  {
   "cell_type": "markdown",
   "metadata": {
    "id": "5iIyRUq-kPlK"
   },
   "source": [
    "Test_rdf_auc : 0.74"
   ]
  },
  {
   "cell_type": "markdown",
   "metadata": {
    "id": "v2rG9dgxkWZU"
   },
   "source": [
    "**Decision Tree Classifier**"
   ]
  },
  {
   "cell_type": "code",
   "execution_count": 79,
   "metadata": {
    "id": "5MmHDZxzkZu9"
   },
   "outputs": [],
   "source": [
    "from sklearn.tree import DecisionTreeClassifier"
   ]
  },
  {
   "cell_type": "code",
   "execution_count": 98,
   "metadata": {
    "id": "5p-I0u4skwnI"
   },
   "outputs": [],
   "source": [
    "#ref =https://scikit-learn.org/stable/modules/generated/sklearn.tree.DecisionTreeClassifier.html\n",
    "\n",
    "params =  {'max_depth':[3,5,7,9]}\n",
    "\n",
    "#The instance of Decision Tree Classifier\n",
    "\n",
    "tree_model = DecisionTreeClassifier(random_state=42)\n",
    "\n",
    "#Call Hyperparameter function to get best parameter\n",
    "\n",
    "tree_clf = hyperparameter_model(tree_model,params)"
   ]
  },
  {
   "cell_type": "code",
   "execution_count": 99,
   "metadata": {
    "colab": {
     "base_uri": "https://localhost:8080/"
    },
    "id": "E0_ESOL-nIQx",
    "outputId": "93b6330c-2352-42ab-e6c5-be580355167e"
   },
   "outputs": [
    {
     "name": "stdout",
     "output_type": "stream",
     "text": [
      "{'max_depth': 3}\n"
     ]
    }
   ],
   "source": [
    "print(tree_clf.best_params_)"
   ]
  },
  {
   "cell_type": "code",
   "execution_count": 100,
   "metadata": {
    "colab": {
     "base_uri": "https://localhost:8080/"
    },
    "id": "jlA7hkUgncye",
    "outputId": "a11492ff-82be-42ea-c2ef-5bde7363c415"
   },
   "outputs": [
    {
     "data": {
      "text/plain": [
       "DecisionTreeClassifier(class_weight='balanced', max_depth=3)"
      ]
     },
     "execution_count": 100,
     "metadata": {},
     "output_type": "execute_result"
    }
   ],
   "source": [
    "tree_clf = DecisionTreeClassifier(**tree_clf.best_params_,class_weight='balanced')\n",
    "tree_clf.fit(X_train,y_train)"
   ]
  },
  {
   "cell_type": "code",
   "execution_count": 101,
   "metadata": {
    "colab": {
     "base_uri": "https://localhost:8080/"
    },
    "id": "6I_EcxO_nnyK",
    "outputId": "f97d4816-c80a-4dce-f95d-1c8d6b5f8a8b"
   },
   "outputs": [
    {
     "name": "stdout",
     "output_type": "stream",
     "text": [
      "0.7937500000000001\n"
     ]
    }
   ],
   "source": [
    "y_pred = tree_clf.predict(X_train)\n",
    "train_tree_auc = roc_auc_score(y_train,y_pred)\n",
    "print(train_tree_auc)"
   ]
  },
  {
   "cell_type": "code",
   "execution_count": 102,
   "metadata": {
    "id": "imv8Sa0an4eY"
   },
   "outputs": [],
   "source": [
    "y_pred_tree_test = tree_clf.predict_proba(X_test)[:,1]\n"
   ]
  },
  {
   "cell_type": "code",
   "execution_count": 103,
   "metadata": {
    "colab": {
     "base_uri": "https://localhost:8080/",
     "height": 676
    },
    "id": "M6t0v4HaoELH",
    "outputId": "fd39083a-88b7-4924-f1e0-e137576b29c7"
   },
   "outputs": [
    {
     "data": {
      "text/html": [
       "<div>\n",
       "<style scoped>\n",
       "    .dataframe tbody tr th:only-of-type {\n",
       "        vertical-align: middle;\n",
       "    }\n",
       "\n",
       "    .dataframe tbody tr th {\n",
       "        vertical-align: top;\n",
       "    }\n",
       "\n",
       "    .dataframe thead th {\n",
       "        text-align: right;\n",
       "    }\n",
       "</style>\n",
       "<table border=\"1\" class=\"dataframe\">\n",
       "  <thead>\n",
       "    <tr style=\"text-align: right;\">\n",
       "      <th></th>\n",
       "      <th>ID</th>\n",
       "      <th>Target</th>\n",
       "    </tr>\n",
       "  </thead>\n",
       "  <tbody>\n",
       "    <tr>\n",
       "      <th>0</th>\n",
       "      <td>250</td>\n",
       "      <td>0.387560</td>\n",
       "    </tr>\n",
       "    <tr>\n",
       "      <th>1</th>\n",
       "      <td>251</td>\n",
       "      <td>0.830769</td>\n",
       "    </tr>\n",
       "    <tr>\n",
       "      <th>2</th>\n",
       "      <td>252</td>\n",
       "      <td>0.195143</td>\n",
       "    </tr>\n",
       "    <tr>\n",
       "      <th>3</th>\n",
       "      <td>253</td>\n",
       "      <td>0.830769</td>\n",
       "    </tr>\n",
       "    <tr>\n",
       "      <th>4</th>\n",
       "      <td>254</td>\n",
       "      <td>0.830769</td>\n",
       "    </tr>\n",
       "    <tr>\n",
       "      <th>5</th>\n",
       "      <td>255</td>\n",
       "      <td>0.195143</td>\n",
       "    </tr>\n",
       "    <tr>\n",
       "      <th>6</th>\n",
       "      <td>256</td>\n",
       "      <td>0.830769</td>\n",
       "    </tr>\n",
       "    <tr>\n",
       "      <th>7</th>\n",
       "      <td>257</td>\n",
       "      <td>0.830769</td>\n",
       "    </tr>\n",
       "    <tr>\n",
       "      <th>8</th>\n",
       "      <td>258</td>\n",
       "      <td>0.387560</td>\n",
       "    </tr>\n",
       "    <tr>\n",
       "      <th>9</th>\n",
       "      <td>259</td>\n",
       "      <td>0.195143</td>\n",
       "    </tr>\n",
       "    <tr>\n",
       "      <th>10</th>\n",
       "      <td>260</td>\n",
       "      <td>1.000000</td>\n",
       "    </tr>\n",
       "    <tr>\n",
       "      <th>11</th>\n",
       "      <td>261</td>\n",
       "      <td>0.195143</td>\n",
       "    </tr>\n",
       "    <tr>\n",
       "      <th>12</th>\n",
       "      <td>262</td>\n",
       "      <td>0.830769</td>\n",
       "    </tr>\n",
       "    <tr>\n",
       "      <th>13</th>\n",
       "      <td>263</td>\n",
       "      <td>0.195143</td>\n",
       "    </tr>\n",
       "    <tr>\n",
       "      <th>14</th>\n",
       "      <td>264</td>\n",
       "      <td>0.195143</td>\n",
       "    </tr>\n",
       "    <tr>\n",
       "      <th>15</th>\n",
       "      <td>265</td>\n",
       "      <td>0.830769</td>\n",
       "    </tr>\n",
       "    <tr>\n",
       "      <th>16</th>\n",
       "      <td>266</td>\n",
       "      <td>0.830769</td>\n",
       "    </tr>\n",
       "    <tr>\n",
       "      <th>17</th>\n",
       "      <td>267</td>\n",
       "      <td>0.195143</td>\n",
       "    </tr>\n",
       "    <tr>\n",
       "      <th>18</th>\n",
       "      <td>268</td>\n",
       "      <td>1.000000</td>\n",
       "    </tr>\n",
       "    <tr>\n",
       "      <th>19</th>\n",
       "      <td>269</td>\n",
       "      <td>0.616438</td>\n",
       "    </tr>\n",
       "  </tbody>\n",
       "</table>\n",
       "</div>"
      ],
      "text/plain": [
       "     ID    Target\n",
       "0   250  0.387560\n",
       "1   251  0.830769\n",
       "2   252  0.195143\n",
       "3   253  0.830769\n",
       "4   254  0.830769\n",
       "5   255  0.195143\n",
       "6   256  0.830769\n",
       "7   257  0.830769\n",
       "8   258  0.387560\n",
       "9   259  0.195143\n",
       "10  260  1.000000\n",
       "11  261  0.195143\n",
       "12  262  0.830769\n",
       "13  263  0.195143\n",
       "14  264  0.195143\n",
       "15  265  0.830769\n",
       "16  266  0.830769\n",
       "17  267  0.195143\n",
       "18  268  1.000000\n",
       "19  269  0.616438"
      ]
     },
     "execution_count": 103,
     "metadata": {},
     "output_type": "execute_result"
    }
   ],
   "source": [
    "y_pred_tree_test = pd.DataFrame({\"ID\": df_test['id'],\"Target\": y_pred_tree_test})\n",
    "\n",
    "\n",
    "y_pred_tree_test.to_csv('submission_tree_file.csv', index=False)  \n",
    "y_pred_tree_test.head(20)"
   ]
  },
  {
   "cell_type": "markdown",
   "metadata": {
    "id": "fb7vWya2lOYP"
   },
   "source": [
    "![image.png](data:image/png;base64,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)"
   ]
  },
  {
   "cell_type": "markdown",
   "metadata": {
    "id": "fC4LONC9fO-8"
   },
   "source": [
    "test_auc = 0.614"
   ]
  },
  {
   "cell_type": "markdown",
   "metadata": {
    "id": "LLZcrBuEowyA"
   },
   "source": [
    "**XGBoost Classifier**"
   ]
  },
  {
   "cell_type": "code",
   "execution_count": 54,
   "metadata": {
    "id": "iXLIWjxKo3CX"
   },
   "outputs": [],
   "source": [
    "from xgboost import XGBClassifier"
   ]
  },
  {
   "cell_type": "code",
   "execution_count": 71,
   "metadata": {
    "id": "Sn4UQtr_pUEc"
   },
   "outputs": [],
   "source": [
    "from scipy.sparse.construct import random\n",
    "#list of hyper-parameter\n",
    "\n",
    "params = {'max_depth':[2,3,5,7,9],'n_estimators':[10,20,30,40,50,100,200,400,500]}\n",
    "\n",
    "# The instance of XGBClassifier\n",
    "\n",
    "xg_model = XGBClassifier(random_state=42)\n",
    "# call hyparameter function to get best parameter\n",
    "\n",
    "xg_clf = hyperparameter_model(xg_model,params)"
   ]
  },
  {
   "cell_type": "code",
   "execution_count": 72,
   "metadata": {
    "colab": {
     "base_uri": "https://localhost:8080/"
    },
    "id": "dU3J9I5Irz4a",
    "outputId": "4bd00ee4-4bc7-4273-81db-a966d847170e"
   },
   "outputs": [
    {
     "name": "stdout",
     "output_type": "stream",
     "text": [
      "{'max_depth': 2, 'n_estimators': 500}\n"
     ]
    }
   ],
   "source": [
    "print(xg_clf.best_params_)"
   ]
  },
  {
   "cell_type": "code",
   "execution_count": 73,
   "metadata": {
    "colab": {
     "base_uri": "https://localhost:8080/"
    },
    "id": "kZEIW40DtkfK",
    "outputId": "0f0b9f80-9902-4c94-ea4f-8a7e2d46545e"
   },
   "outputs": [
    {
     "data": {
      "text/plain": [
       "XGBClassifier(max_depth=2, n_estimators=500, scale_pos_weight=0.5)"
      ]
     },
     "execution_count": 73,
     "metadata": {},
     "output_type": "execute_result"
    }
   ],
   "source": [
    "xg_clf = XGBClassifier(**xg_clf.best_params_,scale_pos_weight=0.5)\n",
    "xg_clf.fit(X_train,y_train)"
   ]
  },
  {
   "cell_type": "code",
   "execution_count": 74,
   "metadata": {
    "id": "jwzqAAKSt5aY"
   },
   "outputs": [],
   "source": [
    "y_pred = xg_clf.predict(X_train)"
   ]
  },
  {
   "cell_type": "code",
   "execution_count": 75,
   "metadata": {
    "colab": {
     "base_uri": "https://localhost:8080/"
    },
    "id": "VsnzuDysuADF",
    "outputId": "f16d7a1d-7356-4653-db20-9ef1bc45bb5b"
   },
   "outputs": [
    {
     "name": "stdout",
     "output_type": "stream",
     "text": [
      "1.0\n"
     ]
    }
   ],
   "source": [
    "train_xgboost_auc = roc_auc_score(y_train,y_pred)\n",
    "print(train_xgboost_auc)"
   ]
  },
  {
   "cell_type": "code",
   "execution_count": 76,
   "metadata": {
    "colab": {
     "base_uri": "https://localhost:8080/"
    },
    "id": "QfR8rvnquUbT",
    "outputId": "85f4d3e8-1759-43cb-b285-6ec7658ace6a"
   },
   "outputs": [
    {
     "name": "stdout",
     "output_type": "stream",
     "text": [
      "[0.6922573  0.62574023 0.61335033 ... 0.14424945 0.96691495 0.2348253 ]\n"
     ]
    }
   ],
   "source": [
    "y_pred_xg_test = xg_clf.predict_proba(X_test)[:,1]\n",
    "print(y_pred_xg_test)"
   ]
  },
  {
   "cell_type": "code",
   "execution_count": 77,
   "metadata": {
    "colab": {
     "base_uri": "https://localhost:8080/",
     "height": 363
    },
    "id": "TAD82PUiusaf",
    "outputId": "f8520fd5-8415-45fc-8a4f-3ebfc4978b53"
   },
   "outputs": [
    {
     "data": {
      "text/html": [
       "<div>\n",
       "<style scoped>\n",
       "    .dataframe tbody tr th:only-of-type {\n",
       "        vertical-align: middle;\n",
       "    }\n",
       "\n",
       "    .dataframe tbody tr th {\n",
       "        vertical-align: top;\n",
       "    }\n",
       "\n",
       "    .dataframe thead th {\n",
       "        text-align: right;\n",
       "    }\n",
       "</style>\n",
       "<table border=\"1\" class=\"dataframe\">\n",
       "  <thead>\n",
       "    <tr style=\"text-align: right;\">\n",
       "      <th></th>\n",
       "      <th>ID</th>\n",
       "      <th>Target</th>\n",
       "    </tr>\n",
       "  </thead>\n",
       "  <tbody>\n",
       "    <tr>\n",
       "      <th>0</th>\n",
       "      <td>250</td>\n",
       "      <td>0.692257</td>\n",
       "    </tr>\n",
       "    <tr>\n",
       "      <th>1</th>\n",
       "      <td>251</td>\n",
       "      <td>0.625740</td>\n",
       "    </tr>\n",
       "    <tr>\n",
       "      <th>2</th>\n",
       "      <td>252</td>\n",
       "      <td>0.613350</td>\n",
       "    </tr>\n",
       "    <tr>\n",
       "      <th>3</th>\n",
       "      <td>253</td>\n",
       "      <td>0.994627</td>\n",
       "    </tr>\n",
       "    <tr>\n",
       "      <th>4</th>\n",
       "      <td>254</td>\n",
       "      <td>0.923137</td>\n",
       "    </tr>\n",
       "    <tr>\n",
       "      <th>5</th>\n",
       "      <td>255</td>\n",
       "      <td>0.471000</td>\n",
       "    </tr>\n",
       "    <tr>\n",
       "      <th>6</th>\n",
       "      <td>256</td>\n",
       "      <td>0.337258</td>\n",
       "    </tr>\n",
       "    <tr>\n",
       "      <th>7</th>\n",
       "      <td>257</td>\n",
       "      <td>0.132679</td>\n",
       "    </tr>\n",
       "    <tr>\n",
       "      <th>8</th>\n",
       "      <td>258</td>\n",
       "      <td>0.989115</td>\n",
       "    </tr>\n",
       "    <tr>\n",
       "      <th>9</th>\n",
       "      <td>259</td>\n",
       "      <td>0.356931</td>\n",
       "    </tr>\n",
       "  </tbody>\n",
       "</table>\n",
       "</div>"
      ],
      "text/plain": [
       "    ID    Target\n",
       "0  250  0.692257\n",
       "1  251  0.625740\n",
       "2  252  0.613350\n",
       "3  253  0.994627\n",
       "4  254  0.923137\n",
       "5  255  0.471000\n",
       "6  256  0.337258\n",
       "7  257  0.132679\n",
       "8  258  0.989115\n",
       "9  259  0.356931"
      ]
     },
     "execution_count": 77,
     "metadata": {},
     "output_type": "execute_result"
    }
   ],
   "source": [
    "y_pred_xg_test = pd.DataFrame({\"ID\": df_test['id'],\"Target\": y_pred_xg_test})\n",
    "\n",
    "\n",
    "y_pred_xg_test.to_csv('submission_xgboost1.csv', index=False)  \n",
    "y_pred_xg_test.head(10)"
   ]
  },
  {
   "cell_type": "markdown",
   "metadata": {
    "id": "sG9zd1SsksDE"
   },
   "source": [
    "![image.png](data:image/png;base64,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)"
   ]
  },
  {
   "cell_type": "markdown",
   "metadata": {
    "id": "pi5rHJCrvO0C"
   },
   "source": [
    "xgboost_test_auc = 0.793"
   ]
  },
  {
   "cell_type": "markdown",
   "metadata": {
    "id": "sPcBeI9CvX2K"
   },
   "source": [
    "**Stacking Classifier**"
   ]
  },
  {
   "cell_type": "code",
   "execution_count": 78,
   "metadata": {
    "id": "yVQN2Su1yTf1"
   },
   "outputs": [],
   "source": [
    "import six\n",
    "import sys\n",
    "sys.modules['sklearn.externals.six'] = six\n"
   ]
  },
  {
   "cell_type": "code",
   "execution_count": 114,
   "metadata": {
    "id": "ONAJ81YFx8Gc"
   },
   "outputs": [],
   "source": [
    "from mlxtend.classifier import StackingClassifier"
   ]
  },
  {
   "cell_type": "code",
   "execution_count": 115,
   "metadata": {
    "id": "eatkK_rgyYUq"
   },
   "outputs": [],
   "source": [
    "#classifier 1\n",
    "knn_model = KNeighborsClassifier(algorithm ='kd_tree',n_neighbors = 45,weights='uniform')\n",
    "knn_model.fit(X_train,y_train)\n",
    "\n",
    "#Classifier 2\n",
    "model = LogisticRegression(C= 0.1, penalty = 'l1', solver = 'liblinear',class_weight='balanced')\n",
    "model.fit(X_train,y_train)\n",
    "\n",
    "#Classifier 3\n",
    "svc_clf = SVC(C=0.0001, kernel='sigmoid', probability=True)\n",
    "svc_clf.fit(X_train,y_train)\n",
    "\n",
    "#classifier 3\n",
    "\n",
    "rdf_clf = RandomForestClassifier(max_depth=2, n_estimators=400,class_weight='balanced')\n",
    "rdf_clf.fit(X_train,y_train)\n",
    "#classifier 4\n",
    "\n",
    "tree_clf = DecisionTreeClassifier(max_depth = 3,class_weight='balanced')\n",
    "tree_clf.fit(X_train,y_train)\n",
    "\n",
    "#classifier 5\n",
    "xg_clf = XGBClassifier(max_depth=2, n_estimators=500, scale_pos_weight=0.5)\n",
    "xg_clf.fit(X_train,y_train)\n",
    "\n",
    "\n",
    "#Stacking Classifer\n",
    "\n",
    "sclf = StackingClassifier(classifiers=[knn_model,model,svc_clf,rdf_clf,tree_clf,xg_clf],meta_classifier=model,use_probas=True)\n",
    "\n",
    "#fit the model\n",
    "sclf.fit(X_train,y_train)\n",
    "\n",
    "#predict in probabilities\n",
    "\n",
    "y_pred = sclf.predict(X_train)\n"
   ]
  },
  {
   "cell_type": "code",
   "execution_count": 116,
   "metadata": {
    "colab": {
     "base_uri": "https://localhost:8080/"
    },
    "id": "_XAU2Gld08Xp",
    "outputId": "13573a73-77ad-49ce-e87e-c2543e7b5396"
   },
   "outputs": [
    {
     "name": "stdout",
     "output_type": "stream",
     "text": [
      "1.0\n"
     ]
    }
   ],
   "source": [
    "train_auc = roc_auc_score(y_train,y_pred)\n",
    "print(train_auc)"
   ]
  },
  {
   "cell_type": "code",
   "execution_count": 117,
   "metadata": {
    "id": "io59e8D91Id2"
   },
   "outputs": [],
   "source": [
    "y_pred_stack_test = sclf.predict_proba(X_test)[:,1]"
   ]
  },
  {
   "cell_type": "code",
   "execution_count": 118,
   "metadata": {
    "colab": {
     "base_uri": "https://localhost:8080/",
     "height": 676
    },
    "id": "af_BRY8cuJSL",
    "outputId": "abc5ea23-1400-4576-9e96-bb067a5f75ed"
   },
   "outputs": [
    {
     "data": {
      "text/html": [
       "<div>\n",
       "<style scoped>\n",
       "    .dataframe tbody tr th:only-of-type {\n",
       "        vertical-align: middle;\n",
       "    }\n",
       "\n",
       "    .dataframe tbody tr th {\n",
       "        vertical-align: top;\n",
       "    }\n",
       "\n",
       "    .dataframe thead th {\n",
       "        text-align: right;\n",
       "    }\n",
       "</style>\n",
       "<table border=\"1\" class=\"dataframe\">\n",
       "  <thead>\n",
       "    <tr style=\"text-align: right;\">\n",
       "      <th></th>\n",
       "      <th>ID</th>\n",
       "      <th>Target</th>\n",
       "    </tr>\n",
       "  </thead>\n",
       "  <tbody>\n",
       "    <tr>\n",
       "      <th>0</th>\n",
       "      <td>250</td>\n",
       "      <td>0.723233</td>\n",
       "    </tr>\n",
       "    <tr>\n",
       "      <th>1</th>\n",
       "      <td>251</td>\n",
       "      <td>0.652485</td>\n",
       "    </tr>\n",
       "    <tr>\n",
       "      <th>2</th>\n",
       "      <td>252</td>\n",
       "      <td>0.638395</td>\n",
       "    </tr>\n",
       "    <tr>\n",
       "      <th>3</th>\n",
       "      <td>253</td>\n",
       "      <td>0.921526</td>\n",
       "    </tr>\n",
       "    <tr>\n",
       "      <th>4</th>\n",
       "      <td>254</td>\n",
       "      <td>0.891676</td>\n",
       "    </tr>\n",
       "    <tr>\n",
       "      <th>5</th>\n",
       "      <td>255</td>\n",
       "      <td>0.465294</td>\n",
       "    </tr>\n",
       "    <tr>\n",
       "      <th>6</th>\n",
       "      <td>256</td>\n",
       "      <td>0.309231</td>\n",
       "    </tr>\n",
       "    <tr>\n",
       "      <th>7</th>\n",
       "      <td>257</td>\n",
       "      <td>0.139382</td>\n",
       "    </tr>\n",
       "    <tr>\n",
       "      <th>8</th>\n",
       "      <td>258</td>\n",
       "      <td>0.919522</td>\n",
       "    </tr>\n",
       "    <tr>\n",
       "      <th>9</th>\n",
       "      <td>259</td>\n",
       "      <td>0.330495</td>\n",
       "    </tr>\n",
       "    <tr>\n",
       "      <th>10</th>\n",
       "      <td>260</td>\n",
       "      <td>0.871123</td>\n",
       "    </tr>\n",
       "    <tr>\n",
       "      <th>11</th>\n",
       "      <td>261</td>\n",
       "      <td>0.453674</td>\n",
       "    </tr>\n",
       "    <tr>\n",
       "      <th>12</th>\n",
       "      <td>262</td>\n",
       "      <td>0.121870</td>\n",
       "    </tr>\n",
       "    <tr>\n",
       "      <th>13</th>\n",
       "      <td>263</td>\n",
       "      <td>0.905671</td>\n",
       "    </tr>\n",
       "    <tr>\n",
       "      <th>14</th>\n",
       "      <td>264</td>\n",
       "      <td>0.375028</td>\n",
       "    </tr>\n",
       "    <tr>\n",
       "      <th>15</th>\n",
       "      <td>265</td>\n",
       "      <td>0.914669</td>\n",
       "    </tr>\n",
       "    <tr>\n",
       "      <th>16</th>\n",
       "      <td>266</td>\n",
       "      <td>0.340220</td>\n",
       "    </tr>\n",
       "    <tr>\n",
       "      <th>17</th>\n",
       "      <td>267</td>\n",
       "      <td>0.904790</td>\n",
       "    </tr>\n",
       "    <tr>\n",
       "      <th>18</th>\n",
       "      <td>268</td>\n",
       "      <td>0.626804</td>\n",
       "    </tr>\n",
       "    <tr>\n",
       "      <th>19</th>\n",
       "      <td>269</td>\n",
       "      <td>0.832697</td>\n",
       "    </tr>\n",
       "  </tbody>\n",
       "</table>\n",
       "</div>"
      ],
      "text/plain": [
       "     ID    Target\n",
       "0   250  0.723233\n",
       "1   251  0.652485\n",
       "2   252  0.638395\n",
       "3   253  0.921526\n",
       "4   254  0.891676\n",
       "5   255  0.465294\n",
       "6   256  0.309231\n",
       "7   257  0.139382\n",
       "8   258  0.919522\n",
       "9   259  0.330495\n",
       "10  260  0.871123\n",
       "11  261  0.453674\n",
       "12  262  0.121870\n",
       "13  263  0.905671\n",
       "14  264  0.375028\n",
       "15  265  0.914669\n",
       "16  266  0.340220\n",
       "17  267  0.904790\n",
       "18  268  0.626804\n",
       "19  269  0.832697"
      ]
     },
     "execution_count": 118,
     "metadata": {},
     "output_type": "execute_result"
    }
   ],
   "source": [
    "y_pred_stack_test = pd.DataFrame({\"ID\": df_test['id'],\"Target\": y_pred_stack_test})\n",
    "\n",
    "\n",
    "y_pred_stack_test.to_csv('submission_stack_file.csv', index=False)  \n",
    "y_pred_stack_test.head(20)"
   ]
  },
  {
   "cell_type": "markdown",
   "metadata": {
    "id": "mgEnwPGmp2ez"
   },
   "source": [
    "![image.png](data:image/png;base64,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)"
   ]
  },
  {
   "cell_type": "markdown",
   "metadata": {
    "id": "f61uIQohjbEu"
   },
   "source": [
    "Test_auc = 0.79"
   ]
  },
  {
   "cell_type": "markdown",
   "metadata": {
    "id": "MxylM9-_jgaZ"
   },
   "source": [
    "### Summary of All Models"
   ]
  },
  {
   "cell_type": "code",
   "execution_count": 2,
   "metadata": {},
   "outputs": [
    {
     "name": "stdout",
     "output_type": "stream",
     "text": [
      "+------------------------+------------------------------+-----------+----------+\n",
      "|         Model          |       Hyper-parameter        | Train AUC | Test AUC |\n",
      "+========================+==============================+===========+==========+\n",
      "| Knn_Model              | {'algorithm': 'kd_tree',     | 0.550     | 0.660    |\n",
      "|                        | 'n_neighbors': 45}           |           |          |\n",
      "+------------------------+------------------------------+-----------+----------+\n",
      "| logistic Regresstion   | {'C': 0.1, 'penalty': 'l1',  | 0.900     | 0.844    |\n",
      "|                        | 'solver': 'liblinear'}       |           |          |\n",
      "+------------------------+------------------------------+-----------+----------+\n",
      "| Support Vector Machine | {'C': 0.001, 'kernel':       | 0.520     | 0.720    |\n",
      "|                        | 'sigmoid'}                   |           |          |\n",
      "+------------------------+------------------------------+-----------+----------+\n",
      "| XGBoost Classifier     | {'max_depth': 2,             | 1         | 0.790    |\n",
      "|                        | 'n_estimators': 500}         |           |          |\n",
      "+------------------------+------------------------------+-----------+----------+\n",
      "| Random forest          | {'max_depth': 2,             | 0.520     | 0.740    |\n",
      "|                        | 'n_estimators': 400}         |           |          |\n",
      "+------------------------+------------------------------+-----------+----------+\n",
      "| DecisionTree           | {'max_depth': 3}             | 0.790     | 0.580    |\n",
      "+------------------------+------------------------------+-----------+----------+\n",
      "| Calibrated Model       | --                           | 1         | 0.790    |\n",
      "+------------------------+------------------------------+-----------+----------+\n"
     ]
    }
   ],
   "source": [
    "from texttable import Texttable\n",
    "t = Texttable()\n",
    "t.add_rows([['Model','Hyper-parameter','Train AUC','Test AUC'],['Knn_Model',r\"{'algorithm': 'kd_tree', 'n_neighbors': 45}\",0.55,0.66],\n",
    "           ['logistic Regresstion',r\"{'C': 0.1, 'penalty': 'l1', 'solver': 'liblinear'}\",0.90,0.844],['Support Vector Machine',\n",
    "           r\"{'C': 0.001, 'kernel': 'sigmoid'}\",0.52,0.72],['XGBoost Classifier',r\"{'max_depth': 2, 'n_estimators': 500}\",1.00,0.79],\n",
    "            ['Random forest',r\"{'max_depth': 2, 'n_estimators': 400}\",0.52,0.74], ['DecisionTree',r\"{'max_depth': 3}\",0.79,0.58],\n",
    "            ['Calibrated Model',\"--\",1.00,0.79]])\n",
    "\n",
    "print(t.draw())"
   ]
  },
  {
   "cell_type": "markdown",
   "metadata": {},
   "source": [
    "### Observation"
   ]
  },
  {
   "cell_type": "markdown",
   "metadata": {},
   "source": [
    "1.We have read the training and test dataset. After reading both of dataset, we got it know that test dataset is having more features compare to training dataset.\n",
    "2. Dropped the labled data from both train and test datasets.\n",
    "4. Used GridSerach Validation for hyper-parameter tuning.\n",
    "5. We have applied following machine learning algorithm:\n",
    "   1.KNN : The KNN algorithm trained the model with parameter(algorithm = 'kd_tree', and n_neighbors=45) and gave train_AUC=0.55    and Test Auc = 0.66 . Model is less accurate but it is not overfitted.\n",
    "   \n",
    "   2.Logistic Regression : The Logistic regression algorithm trained the model with parameter(C=0.1,penalty=l1,solver=liblinear)    and gave train_AUC = 0.90 and Test_auc=0.844 which is working as expected.\n",
    "   \n",
    "   3.Support Vector Machine: The SVM algorithm trained the model with parameter(C=0.001,kernel=sigmoid) and got the  train_AUC=0.52 and Test_AUC = 0.72.Model is not overfitted\n",
    "   \n",
    "   4.XGBoost Classifier: The XGBoost classifier trained the model with parameter(max_depth=2,n_estimators=500) and got the train_AUC= 1.0 and Test_AUC=0.79.Model is accurate and not overfitted\n",
    "   \n",
    "   5.Random Forest : The Random Forest classifier trained the model with parameter(max_depth=2,n_estimators=400) and got the train_AUC = 0.52 and test_AUC = 0.74. Model is not overfitted\n",
    "   \n",
    "   6.DecisionTree : The Decision Tree classifier trained the model with parameter(max_depth=3) and got the train_AUC = 0.790 and test_AUC=0.580 .Model is overfitting. Decision Tree is poorly working.\n",
    "   \n",
    "   7.Calibrated model gave train_AUC = 1.0 and Test_AUC = 0.79. Model is accurate and not overfitted.\n",
    "   \n",
    "Logistic Regression is working well with Test AUC = 0.844 from above applied algorithm"
   ]
  },
  {
   "cell_type": "code",
   "execution_count": null,
   "metadata": {},
   "outputs": [],
   "source": []
  }
 ],
 "metadata": {
  "accelerator": "TPU",
  "colab": {
   "collapsed_sections": [],
   "machine_shape": "hm",
   "name": "Case_Study_Class_Weight and_Model6.ipynb",
   "provenance": []
  },
  "kernelspec": {
   "display_name": "Python 3",
   "language": "python",
   "name": "python3"
  },
  "language_info": {
   "codemirror_mode": {
    "name": "ipython",
    "version": 3
   },
   "file_extension": ".py",
   "mimetype": "text/x-python",
   "name": "python",
   "nbconvert_exporter": "python",
   "pygments_lexer": "ipython3",
   "version": "3.6.5"
  }
 },
 "nbformat": 4,
 "nbformat_minor": 1
}
